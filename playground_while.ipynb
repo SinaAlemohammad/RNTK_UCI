{
 "metadata": {
  "language_info": {
   "codemirror_mode": {
    "name": "ipython",
    "version": 3
   },
   "file_extension": ".py",
   "mimetype": "text/x-python",
   "name": "python",
   "nbconvert_exporter": "python",
   "pygments_lexer": "ipython3",
   "version": "3.7.9"
  },
  "orig_nbformat": 4,
  "kernelspec": {
   "name": "rntkvenv",
   "display_name": "Python 3.7.9  ('RNTKVENV': venv)"
  }
 },
 "nbformat": 4,
 "nbformat_minor": 2,
 "cells": [
  {
   "cell_type": "code",
   "execution_count": 1,
   "metadata": {},
   "outputs": [],
   "source": [
    "import numpy as np\n",
    "import tools, RNTK_avg\n",
    "import jax\n",
    "import symjax\n",
    "import symjax.tensor as T\n",
    "import copy"
   ]
  },
  {
   "cell_type": "code",
   "execution_count": 2,
   "metadata": {},
   "outputs": [],
   "source": [
    "Ti = 2\n",
    "TiPrime = 2"
   ]
  },
  {
   "cell_type": "code",
   "execution_count": 3,
   "metadata": {},
   "outputs": [],
   "source": [
    "dataset = \"trains\""
   ]
  },
  {
   "cell_type": "code",
   "execution_count": 4,
   "metadata": {},
   "outputs": [],
   "source": [
    "dic = {k:v for k,v in map(lambda x : x.split(), open(\"data\" + \"/\" + dataset + \"/\" + dataset + \".txt\", \"r\").readlines())}"
   ]
  },
  {
   "cell_type": "code",
   "execution_count": 5,
   "metadata": {},
   "outputs": [],
   "source": [
    "N = int(dic[\"n_patrons1=\"])\n",
    "length = int(dic[\"n_entradas=\"])"
   ]
  },
  {
   "cell_type": "code",
   "execution_count": 6,
   "metadata": {},
   "outputs": [],
   "source": [
    "class RNTKTEST():\n",
    "    def __init__(self):\n",
    "        self.sw = 1\n",
    "        self.su = 1\n",
    "        self.sb = 1\n",
    "        self.sh = 1\n",
    "        self.L = 1\n",
    "        self.Lf = 0\n",
    "        self.sv = 1\n",
    "        self.N = int(dic[\"n_patrons1=\"])\n",
    "        self.length = int(dic[\"n_entradas=\"])\n",
    "        \n",
    "    def VT(self, M):\n",
    "        A = T.diag(M)  # GP_old is in R^{n*n} having the output gp kernel\n",
    "        # of all pairs of data in the data set\n",
    "        B = A * A[:, None]\n",
    "        C = T.sqrt(B)  # in R^{n*n}\n",
    "        D = M / C  # this is lamblda in ReLU analyrucal formula\n",
    "        E = T.clip(D, -1, 1)  # clipping E between -1 and 1 for numerical stability.\n",
    "        F = (1 / (2 * np.pi)) * (E * (np.pi - T.arccos(E)) + T.sqrt(1 - E ** 2)) * C\n",
    "        G = (np.pi - T.arccos(E)) / (2 * np.pi)\n",
    "        return F,G"
   ]
  },
  {
   "cell_type": "code",
   "execution_count": 7,
   "metadata": {},
   "outputs": [],
   "source": [
    "rntk = RNTKTEST()"
   ]
  },
  {
   "cell_type": "code",
   "execution_count": 8,
   "metadata": {},
   "outputs": [],
   "source": [
    "DATA = T.Placeholder((N, length), 'float32', name = \"X\")\n",
    "x = DATA[:,0]\n",
    "X = x*x[:, None]\n",
    "n = X.shape[0]"
   ]
  },
  {
   "cell_type": "code",
   "execution_count": 9,
   "metadata": {},
   "outputs": [
    {
     "output_type": "stream",
     "name": "stderr",
     "text": [
      "WARNING:absl:No GPU/TPU found, falling back to CPU. (Set TF_CPP_MIN_LOG_LEVEL=0 and rerun for more info.)\n"
     ]
    }
   ],
   "source": [
    "RNTK,GP = RNTK_avg.RNTK.RNTK_first(rntk,DATA[:,0])"
   ]
  },
  {
   "cell_type": "code",
   "execution_count": 10,
   "metadata": {},
   "outputs": [],
   "source": [
    "l = 1"
   ]
  },
  {
   "source": [
    "## LAYER ZERO ATTEMPT\n"
   ],
   "cell_type": "markdown",
   "metadata": {}
  },
  {
   "cell_type": "code",
   "execution_count": 11,
   "metadata": {},
   "outputs": [],
   "source": [
    "switch_flag = 1\n",
    "dim_1_i = dim_1 = 2\n",
    "dim_2 = 2\n",
    "dim_2_i = 0\n",
    "dim_num = dim_1 + dim_2 + 1"
   ]
  },
  {
   "cell_type": "code",
   "execution_count": 12,
   "metadata": {},
   "outputs": [
    {
     "output_type": "stream",
     "name": "stdout",
     "text": [
      "2 0 1\n"
     ]
    }
   ],
   "source": [
    "tiprimes = []\n",
    "tis = []\n",
    "\n",
    "print(dim_1_i, dim_2_i, switch_flag)\n",
    "for d in range(0,dim_num):\n",
    "    tiprime = dim_1_i\n",
    "    ti = dim_2_i\n",
    "\n",
    "    # diag_func(tiprime, ti, dim_1, dim_2, rntk)\n",
    "    tiprimes.append(tiprime)\n",
    "    tis.append(ti)\n",
    "\n",
    "    if dim_1_i == 0:\n",
    "        switch_flag -= 1\n",
    "    else:\n",
    "        dim_1_i = dim_1_i - 1\n",
    "    if switch_flag <= 0:\n",
    "        dim_2_i = dim_2_i + 1"
   ]
  },
  {
   "cell_type": "code",
   "execution_count": 13,
   "metadata": {},
   "outputs": [
    {
     "output_type": "execute_result",
     "data": {
      "text/plain": [
       "(5, 2)"
      ]
     },
     "metadata": {},
     "execution_count": 13
    }
   ],
   "source": [
    "np.array(list(zip(tiprimes, tis))).shape ## input size (iterable)"
   ]
  },
  {
   "cell_type": "code",
   "execution_count": 14,
   "metadata": {},
   "outputs": [
    {
     "output_type": "execute_result",
     "data": {
      "text/plain": [
       "(4,)"
      ]
     },
     "metadata": {},
     "execution_count": 14
    }
   ],
   "source": [
    "np.array([dim_1, dim_2, n, X]).shape ## additional input size (unchanging)"
   ]
  },
  {
   "cell_type": "code",
   "execution_count": 15,
   "metadata": {},
   "outputs": [
    {
     "output_type": "execute_result",
     "data": {
      "text/plain": [
       "array([[-1, -1],\n",
       "       [-1, -1],\n",
       "       [-1, -1],\n",
       "       [-1, -1],\n",
       "       [-1, -1]], dtype=object)"
      ]
     },
     "metadata": {},
     "execution_count": 15
    }
   ],
   "source": [
    "-np.ones([dim_num,min(dim_1,dim_2)], dtype = object) ## the carry"
   ]
  },
  {
   "source": [
    "## below code DOES NOT WORK"
   ],
   "cell_type": "markdown",
   "metadata": {}
  },
  {
   "source": [
    "        print(\"inner iteration - \", tiprime_iter, ti_iter) #// DIM 1 IS T PRIME, DIM 2 IS T\n",
    "        if T.logical_and(T.greater(ti_iter, 0), T.greater(tiprime_iter, 0)):\n",
    "        if ((ti_iter > 0) & (tiprime_iter > 0)):\n",
    "            S, D = rntk.VT(lambdamatrix[0, ti_iter-1, tiprime_iter-1])\n",
    "            lambdamatrix[0, ti_iter, tiprime_iter] = rntk.sw ** 2 * S + rntk.su ** 2 * X + rntk.sb ** 2\n",
    "            phimatrix[0, ti_iter, tiprime_iter] = lambdamatrix[0, ti_iter, tiprime_iter] + rntk.sw ** 2 * phimatrix[0, ti_iter - 1, tiprime_iter - 1] * D\n",
    "        else:\n",
    "            test = rntk.sh ** 2 * rntk.sw ** 2 * T.eye(n, n) + (rntk.su ** 2) * X + rntk.sb ** 2\n",
    "            test = rntk.sh ** 2 * rntk.sw ** 2 * T.eye(n, n) + (rntk.su ** 2) + rntk.sb ** 2\n",
    "            test = rntk.sh ** 2 * rntk.sw ** 2 + (rntk.su ** 2) + rntk.sb ** 2\n",
    "            phimatrix[0,ti,tiprime_iter] = lambdamatrix[0,ti,tiprime_iter] = T.expand_dims(test, axis = 0) # line 2, alg 1"
   ],
   "cell_type": "markdown",
   "metadata": {}
  },
  {
   "source": [
    "## lets make a scan that does a diagonal"
   ],
   "cell_type": "markdown",
   "metadata": {}
  },
  {
   "cell_type": "code",
   "execution_count": 16,
   "metadata": {},
   "outputs": [],
   "source": [
    "dim_1 = 7\n",
    "dim_2 = 5"
   ]
  },
  {
   "cell_type": "code",
   "execution_count": 86,
   "metadata": {
    "tags": []
   },
   "outputs": [],
   "source": [
    "# Xph = T.Placeholder((10,10), \"float32\", name=\"X\")\n",
    "# diagonal = T.Placeholder((2,), \"float32\", name=\"signal\")\n",
    "diagindex = jax.numpy.arange(0,min(dim_1, dim_2))\n",
    "diag = T.Variable((diagindex), \"float32\", \"dimension internal index\")\n",
    "dim1ph = T.Variable(dim_1, \"float32\", \"dimension 1 max\")\n",
    "dim2ph = T.Variable(dim_2, \"float32\", \"dimension 2 max\")\n",
    "dim1idxph = T.Variable(0, \"float32\", \"dimension 1 index\")\n",
    "dim2idxph = T.Variable(0, \"float32\", \"dimension 2 index\")\n",
    "nph = T.Variable(n, \"float32\", \"n\")\n",
    "# carry = T.Placeholder((), \"float32\", \"alpha\")\n",
    "\n",
    "## prev_vals - (2,1) - previous phi and lambda values\n",
    "## idx - where we are on the diagonal\n",
    "## d1idx - y value of first dimension diag start\n",
    "## d2idx - x value of second dimension diag start\n",
    "## d1ph - max value of first dimension\n",
    "## d2ph - max value of second dimension\n",
    "bc = rntk.sh ** 2 * rntk.sw ** 2 * T.eye(n, n) + (rntk.su ** 2) + rntk.sb ** 2 ## took out an X\n",
    "single_boundary_condition = T.expand_dims(T.Variable((bc), \"float32\", \"boundary_condition\"), axis = 0)\n",
    "boundary_condition = T.concatenate([single_boundary_condition, single_boundary_condition])\n",
    "\n",
    "def fn(prev_vals, idx, d1idx, d2idx, d1ph, d2ph, nph):\n",
    "    tiprime_iter = d1idx + idx\n",
    "    ti_iter = d2idx + idx\n",
    "    prev_lambda = prev_vals[0]\n",
    "    prev_phi = prev_vals[1]\n",
    "    ## not boundary condition\n",
    "    S, D = rntk.VT(prev_lambda)\n",
    "    new_lambda = rntk.sw ** 2 * S + rntk.su ** 2 + rntk.sb ** 2 ## took out an X\n",
    "    new_phi = new_lambda + rntk.sw ** 2 * prev_phi * D\n",
    "    lambda_expanded = T.expand_dims(new_lambda, axis = 0)\n",
    "    phi_expanded = T.expand_dims(new_phi, axis = 0)\n",
    "    to_return = T.concatenate([lambda_expanded, phi_expanded])\n",
    "    \n",
    "    return to_return, to_return\n",
    "\n",
    "last_ema, all_ema = T.scan(\n",
    "    fn, init = boundary_condition, sequences=[diag], non_sequences=[dim1idxph, dim2idxph, dim1ph, dim2ph, nph]\n",
    ")\n",
    "\n",
    "expanded_ema = T.concatenate([T.expand_dims(boundary_condition, axis = 0), o])\n",
    "\n",
    "f = symjax.function(diag, dim1idxph, dim2idxph, dim1ph, dim2ph, nph, outputs=expanded_ema)"
   ]
  },
  {
   "cell_type": "code",
   "execution_count": 87,
   "metadata": {},
   "outputs": [
    {
     "output_type": "execute_result",
     "data": {
      "text/plain": [
       "array([[[[3.       , 2.       , 2.       , ..., 2.       , 2.       ,\n",
       "          2.       ],\n",
       "         [2.       , 3.       , 2.       , ..., 2.       , 2.       ,\n",
       "          2.       ],\n",
       "         [2.       , 2.       , 3.       , ..., 2.       , 2.       ,\n",
       "          2.       ],\n",
       "         ...,\n",
       "         [2.       , 2.       , 2.       , ..., 3.       , 2.       ,\n",
       "          2.       ],\n",
       "         [2.       , 2.       , 2.       , ..., 2.       , 3.       ,\n",
       "          2.       ],\n",
       "         [2.       , 2.       , 2.       , ..., 2.       , 2.       ,\n",
       "          3.       ]],\n",
       "\n",
       "        [[3.       , 2.       , 2.       , ..., 2.       , 2.       ,\n",
       "          2.       ],\n",
       "         [2.       , 3.       , 2.       , ..., 2.       , 2.       ,\n",
       "          2.       ],\n",
       "         [2.       , 2.       , 3.       , ..., 2.       , 2.       ,\n",
       "          2.       ],\n",
       "         ...,\n",
       "         [2.       , 2.       , 2.       , ..., 3.       , 2.       ,\n",
       "          2.       ],\n",
       "         [2.       , 2.       , 2.       , ..., 2.       , 3.       ,\n",
       "          2.       ],\n",
       "         [2.       , 2.       , 2.       , ..., 2.       , 2.       ,\n",
       "          3.       ]]],\n",
       "\n",
       "\n",
       "       [[[3.5      , 3.0881608, 3.0881608, ..., 3.0881608, 3.0881608,\n",
       "          3.0881608],\n",
       "         [3.0881608, 3.5      , 3.0881608, ..., 3.0881608, 3.0881608,\n",
       "          3.0881608],\n",
       "         [3.0881608, 3.0881608, 3.5      , ..., 3.0881608, 3.0881608,\n",
       "          3.0881608],\n",
       "         ...,\n",
       "         [3.0881608, 3.0881608, 3.0881608, ..., 3.5      , 3.0881608,\n",
       "          3.0881608],\n",
       "         [3.0881608, 3.0881608, 3.0881608, ..., 3.0881608, 3.5      ,\n",
       "          3.0881608],\n",
       "         [3.0881608, 3.0881608, 3.0881608, ..., 3.0881608, 3.0881608,\n",
       "          3.5      ]],\n",
       "\n",
       "        [[5.       , 3.8204403, 3.8204403, ..., 3.8204403, 3.8204403,\n",
       "          3.8204403],\n",
       "         [3.8204403, 5.       , 3.8204403, ..., 3.8204403, 3.8204403,\n",
       "          3.8204403],\n",
       "         [3.8204403, 3.8204403, 5.       , ..., 3.8204403, 3.8204403,\n",
       "          3.8204403],\n",
       "         ...,\n",
       "         [3.8204403, 3.8204403, 3.8204403, ..., 5.       , 3.8204403,\n",
       "          3.8204403],\n",
       "         [3.8204403, 3.8204403, 3.8204403, ..., 3.8204403, 5.       ,\n",
       "          3.8204403],\n",
       "         [3.8204403, 3.8204403, 3.8204403, ..., 3.8204403, 3.8204403,\n",
       "          5.       ]]],\n",
       "\n",
       "\n",
       "       [[[3.75     , 3.5654058, 3.5654058, ..., 3.5654058, 3.5654058,\n",
       "          3.5654058],\n",
       "         [3.5654058, 3.75     , 3.5654058, ..., 3.5654058, 3.5654058,\n",
       "          3.5654058],\n",
       "         [3.5654058, 3.5654058, 3.75     , ..., 3.5654058, 3.5654058,\n",
       "          3.5654058],\n",
       "         ...,\n",
       "         [3.5654058, 3.5654058, 3.5654058, ..., 3.75     , 3.5654058,\n",
       "          3.5654058],\n",
       "         [3.5654058, 3.5654058, 3.5654058, ..., 3.5654058, 3.75     ,\n",
       "          3.5654058],\n",
       "         [3.5654058, 3.5654058, 3.5654058, ..., 3.5654058, 3.5654058,\n",
       "          3.75     ]],\n",
       "\n",
       "        [[6.25     , 5.177684 , 5.177684 , ..., 5.177684 , 5.177684 ,\n",
       "          5.177684 ],\n",
       "         [5.177684 , 6.25     , 5.177684 , ..., 5.177684 , 5.177684 ,\n",
       "          5.177684 ],\n",
       "         [5.177684 , 5.177684 , 6.25     , ..., 5.177684 , 5.177684 ,\n",
       "          5.177684 ],\n",
       "         ...,\n",
       "         [5.177684 , 5.177684 , 5.177684 , ..., 6.25     , 5.177684 ,\n",
       "          5.177684 ],\n",
       "         [5.177684 , 5.177684 , 5.177684 , ..., 5.177684 , 6.25     ,\n",
       "          5.177684 ],\n",
       "         [5.177684 , 5.177684 , 5.177684 , ..., 5.177684 , 5.177684 ,\n",
       "          6.25     ]]],\n",
       "\n",
       "\n",
       "       [[[3.875    , 3.7888637, 3.7888637, ..., 3.7888637, 3.7888637,\n",
       "          3.7888637],\n",
       "         [3.7888637, 3.875    , 3.7888637, ..., 3.7888637, 3.7888637,\n",
       "          3.7888637],\n",
       "         [3.7888637, 3.7888637, 3.875    , ..., 3.7888637, 3.7888637,\n",
       "          3.7888637],\n",
       "         ...,\n",
       "         [3.7888637, 3.7888637, 3.7888637, ..., 3.875    , 3.7888637,\n",
       "          3.7888637],\n",
       "         [3.7888637, 3.7888637, 3.7888637, ..., 3.7888637, 3.875    ,\n",
       "          3.7888637],\n",
       "         [3.7888637, 3.7888637, 3.7888637, ..., 3.7888637, 3.7888637,\n",
       "          3.875    ]],\n",
       "\n",
       "        [[7.       , 6.1180716, 6.1180716, ..., 6.1180716, 6.1180716,\n",
       "          6.1180716],\n",
       "         [6.1180716, 7.       , 6.1180716, ..., 6.1180716, 6.1180716,\n",
       "          6.1180716],\n",
       "         [6.1180716, 6.1180716, 7.       , ..., 6.1180716, 6.1180716,\n",
       "          6.1180716],\n",
       "         ...,\n",
       "         [6.1180716, 6.1180716, 6.1180716, ..., 7.       , 6.1180716,\n",
       "          6.1180716],\n",
       "         [6.1180716, 6.1180716, 6.1180716, ..., 6.1180716, 7.       ,\n",
       "          6.1180716],\n",
       "         [6.1180716, 6.1180716, 6.1180716, ..., 6.1180716, 6.1180716,\n",
       "          7.       ]]],\n",
       "\n",
       "\n",
       "       [[[3.9375   , 3.8963609, 3.8963609, ..., 3.8963609, 3.8963609,\n",
       "          3.8963609],\n",
       "         [3.8963609, 3.9375   , 3.8963609, ..., 3.8963609, 3.8963609,\n",
       "          3.8963609],\n",
       "         [3.8963609, 3.8963609, 3.9375   , ..., 3.8963609, 3.8963609,\n",
       "          3.8963609],\n",
       "         ...,\n",
       "         [3.8963609, 3.8963609, 3.8963609, ..., 3.9375   , 3.8963609,\n",
       "          3.8963609],\n",
       "         [3.8963609, 3.8963609, 3.8963609, ..., 3.8963609, 3.9375   ,\n",
       "          3.8963609],\n",
       "         [3.8963609, 3.8963609, 3.8963609, ..., 3.8963609, 3.8963609,\n",
       "          3.9375   ]],\n",
       "\n",
       "        [[7.4375   , 6.749706 , 6.749706 , ..., 6.749706 , 6.749706 ,\n",
       "          6.749706 ],\n",
       "         [6.749706 , 7.4375   , 6.749706 , ..., 6.749706 , 6.749706 ,\n",
       "          6.749706 ],\n",
       "         [6.749706 , 6.749706 , 7.4375   , ..., 6.749706 , 6.749706 ,\n",
       "          6.749706 ],\n",
       "         ...,\n",
       "         [6.749706 , 6.749706 , 6.749706 , ..., 7.4375   , 6.749706 ,\n",
       "          6.749706 ],\n",
       "         [6.749706 , 6.749706 , 6.749706 , ..., 6.749706 , 7.4375   ,\n",
       "          6.749706 ],\n",
       "         [6.749706 , 6.749706 , 6.749706 , ..., 6.749706 , 6.749706 ,\n",
       "          7.4375   ]]],\n",
       "\n",
       "\n",
       "       [[[3.96875  , 3.9488118, 3.9488118, ..., 3.9488118, 3.9488118,\n",
       "          3.9488118],\n",
       "         [3.9488118, 3.96875  , 3.9488118, ..., 3.9488118, 3.9488118,\n",
       "          3.9488118],\n",
       "         [3.9488118, 3.9488118, 3.96875  , ..., 3.9488118, 3.9488118,\n",
       "          3.9488118],\n",
       "         ...,\n",
       "         [3.9488118, 3.9488118, 3.9488118, ..., 3.96875  , 3.9488118,\n",
       "          3.9488118],\n",
       "         [3.9488118, 3.9488118, 3.9488118, ..., 3.9488118, 3.96875  ,\n",
       "          3.9488118],\n",
       "         [3.9488118, 3.9488118, 3.9488118, ..., 3.9488118, 3.9488118,\n",
       "          3.96875  ]],\n",
       "\n",
       "        [[7.6875   , 7.168242 , 7.168242 , ..., 7.168242 , 7.168242 ,\n",
       "          7.168242 ],\n",
       "         [7.168242 , 7.6875   , 7.168242 , ..., 7.168242 , 7.168242 ,\n",
       "          7.168242 ],\n",
       "         [7.168242 , 7.168242 , 7.6875   , ..., 7.168242 , 7.168242 ,\n",
       "          7.168242 ],\n",
       "         ...,\n",
       "         [7.168242 , 7.168242 , 7.168242 , ..., 7.6875   , 7.168242 ,\n",
       "          7.168242 ],\n",
       "         [7.168242 , 7.168242 , 7.168242 , ..., 7.168242 , 7.6875   ,\n",
       "          7.168242 ],\n",
       "         [7.168242 , 7.168242 , 7.168242 , ..., 7.168242 , 7.168242 ,\n",
       "          7.6875   ]]]], dtype=float32)"
      ]
     },
     "metadata": {},
     "execution_count": 87
    }
   ],
   "source": [
    "o = f(diagindex, 0, 0, dim_1, dim_2, n)\n",
    "o"
   ]
  },
  {
   "cell_type": "code",
   "execution_count": null,
   "metadata": {},
   "outputs": [],
   "source": []
  },
  {
   "cell_type": "code",
   "execution_count": 20,
   "metadata": {},
   "outputs": [],
   "source": [
    "# lambdamatrix = np.zeros([1, dim_1 + 1, dim_2 + 1],dtype = object)\n",
    "# phimatrix = np.zeros([1, dim_1 + 1, dim_2 + 1],dtype = object)"
   ]
  },
  {
   "source": [
    "## MISC LOOKING AT OBJECT FORMATS"
   ],
   "cell_type": "markdown",
   "metadata": {}
  },
  {
   "cell_type": "code",
   "execution_count": 21,
   "metadata": {},
   "outputs": [
    {
     "output_type": "error",
     "ename": "NameError",
     "evalue": "name 'gp_new' is not defined",
     "traceback": [
      "\u001b[0;31m---------------------------------------------------------------------------\u001b[0m",
      "\u001b[0;31mNameError\u001b[0m                                 Traceback (most recent call last)",
      "\u001b[0;32m<ipython-input-21-ee06e0100a4b>\u001b[0m in \u001b[0;36m<module>\u001b[0;34m\u001b[0m\n\u001b[0;32m----> 1\u001b[0;31m \u001b[0mS_new\u001b[0m\u001b[0;34m,\u001b[0m\u001b[0mD_new\u001b[0m \u001b[0;34m=\u001b[0m \u001b[0mrntk\u001b[0m\u001b[0;34m.\u001b[0m\u001b[0mVT\u001b[0m\u001b[0;34m(\u001b[0m\u001b[0mgp_new\u001b[0m\u001b[0;34m[\u001b[0m\u001b[0ml\u001b[0m\u001b[0;34m-\u001b[0m\u001b[0;36m1\u001b[0m\u001b[0;34m]\u001b[0m\u001b[0;34m)\u001b[0m\u001b[0;34m\u001b[0m\u001b[0;34m\u001b[0m\u001b[0m\n\u001b[0m",
      "\u001b[0;31mNameError\u001b[0m: name 'gp_new' is not defined"
     ]
    }
   ],
   "source": [
    "S_new,D_new = rntk.VT(gp_new[l-1])"
   ]
  },
  {
   "cell_type": "code",
   "execution_count": 115,
   "metadata": {},
   "outputs": [
    {
     "output_type": "execute_result",
     "data": {
      "text/plain": [
       "Op(name=multiply_137, fn=multiply, shape=(10, 10), dtype=float32, scope=/default)"
      ]
     },
     "metadata": {},
     "execution_count": 115
    }
   ],
   "source": [
    "S_new"
   ]
  },
  {
   "cell_type": "code",
   "execution_count": 116,
   "metadata": {},
   "outputs": [
    {
     "output_type": "execute_result",
     "data": {
      "text/plain": [
       "Op(name=true_divide_19, fn=true_divide, shape=(10, 10), dtype=float32, scope=/default)"
      ]
     },
     "metadata": {},
     "execution_count": 116
    }
   ],
   "source": [
    "D_new"
   ]
  },
  {
   "cell_type": "code",
   "execution_count": 117,
   "metadata": {},
   "outputs": [],
   "source": [
    "extra = rntk.sh ** 2 * rntk.sw ** 2 * T.eye(n, n) + rntk.su**2 * S_new + rntk.sb**2"
   ]
  },
  {
   "cell_type": "code",
   "execution_count": 118,
   "metadata": {},
   "outputs": [],
   "source": [
    "new = T.expand_dims(extra,axis = 0)"
   ]
  },
  {
   "cell_type": "code",
   "execution_count": 119,
   "metadata": {},
   "outputs": [
    {
     "output_type": "execute_result",
     "data": {
      "text/plain": [
       "Op(name=expand_dims_27, fn=expand_dims, shape=(1, 10, 10), dtype=float32, scope=/default)"
      ]
     },
     "metadata": {},
     "execution_count": 119
    }
   ],
   "source": [
    "new"
   ]
  },
  {
   "cell_type": "code",
   "execution_count": 120,
   "metadata": {},
   "outputs": [],
   "source": [
    "gp_new = T.concatenate([gp_new,new]) #line 4, alg 1"
   ]
  },
  {
   "cell_type": "code",
   "execution_count": 121,
   "metadata": {},
   "outputs": [
    {
     "output_type": "execute_result",
     "data": {
      "text/plain": [
       "Op(name=concatenate_13, fn=concatenate, shape=(3, 10, 10), dtype=float32, scope=/default)"
      ]
     },
     "metadata": {},
     "execution_count": 121
    }
   ],
   "source": [
    "gp_new"
   ]
  },
  {
   "source": [
    "## MIDDLE RNTK OBJECT TYPES"
   ],
   "cell_type": "markdown",
   "metadata": {}
  },
  {
   "source": [
    "T.transpose(DATA[:, 1:])"
   ],
   "cell_type": "code",
   "metadata": {},
   "execution_count": 122,
   "outputs": [
    {
     "output_type": "execute_result",
     "data": {
      "text/plain": [
       "Op(name=transpose_10, fn=transpose, shape=(28, 10), dtype=float32, scope=/default)"
      ]
     },
     "metadata": {},
     "execution_count": 122
    }
   ]
  },
  {
   "cell_type": "code",
   "execution_count": 123,
   "metadata": {},
   "outputs": [
    {
     "output_type": "execute_result",
     "data": {
      "text/plain": [
       "Op(name=stack_10, fn=stack, shape=(2, 2, 10, 10), dtype=float32, scope=/default)"
      ]
     },
     "metadata": {},
     "execution_count": 123
    }
   ],
   "source": [
    "T.stack([RNTK,GP])"
   ]
  },
  {
   "cell_type": "code",
   "execution_count": 124,
   "metadata": {},
   "outputs": [
    {
     "output_type": "stream",
     "name": "stdout",
     "text": [
      "a[0] Op(name=_rewriting_take_56, fn=_rewriting_take, shape=(2, 10, 10), dtype=float32, scope=/default)\na[1] Op(name=_rewriting_take_57, fn=_rewriting_take, shape=(2, 10, 10), dtype=float32, scope=/default)\nB Placeholder(name=_19, shape=(10,), dtype=float32, scope=/default)\n"
     ]
    }
   ],
   "source": [
    "r1, r2 = T.scan(lambda a,b:middletest(a,b),sequences=[ T.transpose(DATA[:, 1:]) ], init=T.stack([RNTK,GP]))"
   ]
  },
  {
   "cell_type": "code",
   "execution_count": 125,
   "metadata": {},
   "outputs": [],
   "source": [
    "def middletest(a,b):\n",
    "    # print(\"A\", a)\n",
    "    print(\"a[0]\", a[0])\n",
    "    print(\"a[1]\", a[1])\n",
    "    print(\"B\", b)\n",
    "    return a,b"
   ]
  },
  {
   "cell_type": "code",
   "execution_count": null,
   "metadata": {},
   "outputs": [],
   "source": []
  },
  {
   "cell_type": "code",
   "execution_count": null,
   "metadata": {},
   "outputs": [],
   "source": []
  },
  {
   "cell_type": "code",
   "execution_count": null,
   "metadata": {},
   "outputs": [],
   "source": []
  }
 ]
}