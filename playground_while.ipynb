{
 "cells": [
  {
   "cell_type": "code",
   "execution_count": 96,
   "metadata": {},
   "outputs": [],
   "source": [
    "import numpy as np\n",
    "import tools, RNTK_avg\n",
    "import jax\n",
    "import symjax\n",
    "import symjax.tensor as T\n",
    "import copy"
   ]
  },
  {
   "cell_type": "code",
   "execution_count": 97,
   "metadata": {},
   "outputs": [],
   "source": [
    "Ti = 2\n",
    "TiPrime = 2"
   ]
  },
  {
   "cell_type": "code",
   "execution_count": 98,
   "metadata": {},
   "outputs": [],
   "source": [
    "dataset = \"trains\""
   ]
  },
  {
   "cell_type": "code",
   "execution_count": 99,
   "metadata": {},
   "outputs": [],
   "source": [
    "dic = {k:v for k,v in map(lambda x : x.split(), open(\"data\" + \"/\" + dataset + \"/\" + dataset + \".txt\", \"r\").readlines())}"
   ]
  },
  {
   "cell_type": "code",
   "execution_count": 100,
   "metadata": {},
   "outputs": [],
   "source": [
    "N = int(dic[\"n_patrons1=\"])\n",
    "length = int(dic[\"n_entradas=\"])"
   ]
  },
  {
   "cell_type": "code",
   "execution_count": 101,
   "metadata": {},
   "outputs": [],
   "source": [
    "class RNTKTEST():\n",
    "    def __init__(self):\n",
    "        self.sw = 1\n",
    "        self.su = 1\n",
    "        self.sb = 1\n",
    "        self.sh = 1\n",
    "        self.L = 1\n",
    "        self.Lf = 0\n",
    "        self.sv = 1\n",
    "        self.N = int(dic[\"n_patrons1=\"])\n",
    "        self.length = int(dic[\"n_entradas=\"])\n",
    "        \n",
    "    def VT(self, M):\n",
    "        A = T.diag(M)  # GP_old is in R^{n*n} having the output gp kernel\n",
    "        # of all pairs of data in the data set\n",
    "        B = A * A[:, None]\n",
    "        C = T.sqrt(B)  # in R^{n*n}\n",
    "        D = M / C  # this is lamblda in ReLU analyrucal formula\n",
    "        E = T.clip(D, -1, 1)  # clipping E between -1 and 1 for numerical stability.\n",
    "        F = (1 / (2 * np.pi)) * (E * (np.pi - T.arccos(E)) + T.sqrt(1 - E ** 2)) * C\n",
    "        G = (np.pi - T.arccos(E)) / (2 * np.pi)\n",
    "        return F,G"
   ]
  },
  {
   "cell_type": "code",
   "execution_count": 102,
   "metadata": {},
   "outputs": [],
   "source": [
    "rntk = RNTKTEST()"
   ]
  },
  {
   "cell_type": "code",
   "execution_count": 103,
   "metadata": {},
   "outputs": [],
   "source": [
    "DATA = T.Placeholder((N, length), 'float32', name = \"X\")\n",
    "x = DATA[:,0]\n",
    "X = x*x[:, None]\n",
    "n = X.shape[0]"
   ]
  },
  {
   "cell_type": "code",
   "execution_count": 104,
   "metadata": {},
   "outputs": [],
   "source": [
    "RNTK,GP = RNTK_avg.RNTK.RNTK_first(rntk,DATA[:,0])"
   ]
  },
  {
   "cell_type": "code",
   "execution_count": 105,
   "metadata": {},
   "outputs": [],
   "source": [
    "l = 1"
   ]
  },
  {
   "cell_type": "markdown",
   "metadata": {},
   "source": [
    "## LAYER ZERO ATTEMPT\n"
   ]
  },
  {
   "cell_type": "code",
   "execution_count": 106,
   "metadata": {},
   "outputs": [],
   "source": [
    "switch_flag = 1\n",
    "dim_1_i = dim_1 = 2\n",
    "dim_2 = 2\n",
    "dim_2_i = 0\n",
    "dim_num = dim_1 + dim_2 + 1"
   ]
  },
  {
   "cell_type": "code",
   "execution_count": 88,
   "metadata": {},
   "outputs": [
    {
     "name": "stdout",
     "output_type": "stream",
     "text": [
      "2 0 1\n"
     ]
    }
   ],
   "source": [
    "tiprimes = []\n",
    "tis = []\n",
    "\n",
    "print(dim_1_i, dim_2_i, switch_flag)\n",
    "for d in range(0,dim_num):\n",
    "    tiprime = dim_1_i\n",
    "    ti = dim_2_i\n",
    "\n",
    "    # diag_func(tiprime, ti, dim_1, dim_2, rntk)\n",
    "    tiprimes.append(tiprime)\n",
    "    tis.append(ti)\n",
    "\n",
    "    if dim_1_i == 0:\n",
    "        switch_flag -= 1\n",
    "    else:\n",
    "        dim_1_i = dim_1_i - 1\n",
    "    if switch_flag <= 0:\n",
    "        dim_2_i = dim_2_i + 1"
   ]
  },
  {
   "cell_type": "code",
   "execution_count": 89,
   "metadata": {},
   "outputs": [
    {
     "data": {
      "text/plain": [
       "(5, 2)"
      ]
     },
     "execution_count": 89,
     "metadata": {},
     "output_type": "execute_result"
    }
   ],
   "source": [
    "np.array(list(zip(tiprimes, tis))).shape ## input size (iterable)"
   ]
  },
  {
   "cell_type": "code",
   "execution_count": 90,
   "metadata": {},
   "outputs": [
    {
     "data": {
      "text/plain": [
       "(4,)"
      ]
     },
     "execution_count": 90,
     "metadata": {},
     "output_type": "execute_result"
    }
   ],
   "source": [
    "np.array([dim_1, dim_2, n, X]).shape ## additional input size (unchanging)"
   ]
  },
  {
   "cell_type": "code",
   "execution_count": 91,
   "metadata": {},
   "outputs": [
    {
     "data": {
      "text/plain": [
       "array([[-1, -1],\n",
       "       [-1, -1],\n",
       "       [-1, -1],\n",
       "       [-1, -1],\n",
       "       [-1, -1]], dtype=object)"
      ]
     },
     "execution_count": 91,
     "metadata": {},
     "output_type": "execute_result"
    }
   ],
   "source": [
    "-np.ones([dim_num,min(dim_1,dim_2)], dtype = object) ## the carry"
   ]
  },
  {
   "cell_type": "markdown",
   "metadata": {},
   "source": [
    "## below code DOES NOT WORK"
   ]
  },
  {
   "cell_type": "markdown",
   "metadata": {},
   "source": [
    "        print(\"inner iteration - \", tiprime_iter, ti_iter) #// DIM 1 IS T PRIME, DIM 2 IS T\n",
    "        if T.logical_and(T.greater(ti_iter, 0), T.greater(tiprime_iter, 0)):\n",
    "        if ((ti_iter > 0) & (tiprime_iter > 0)):\n",
    "            S, D = rntk.VT(lambdamatrix[0, ti_iter-1, tiprime_iter-1])\n",
    "            lambdamatrix[0, ti_iter, tiprime_iter] = rntk.sw ** 2 * S + rntk.su ** 2 * X + rntk.sb ** 2\n",
    "            phimatrix[0, ti_iter, tiprime_iter] = lambdamatrix[0, ti_iter, tiprime_iter] + rntk.sw ** 2 * phimatrix[0, ti_iter - 1, tiprime_iter - 1] * D\n",
    "        else:\n",
    "            test = rntk.sh ** 2 * rntk.sw ** 2 * T.eye(n, n) + (rntk.su ** 2) * X + rntk.sb ** 2\n",
    "            test = rntk.sh ** 2 * rntk.sw ** 2 * T.eye(n, n) + (rntk.su ** 2) + rntk.sb ** 2\n",
    "            test = rntk.sh ** 2 * rntk.sw ** 2 + (rntk.su ** 2) + rntk.sb ** 2\n",
    "            phimatrix[0,ti,tiprime_iter] = lambdamatrix[0,ti,tiprime_iter] = T.expand_dims(test, axis = 0) # line 2, alg 1"
   ]
  },
  {
   "cell_type": "markdown",
   "metadata": {},
   "source": [
    "## lets make a scan that does a diagonal"
   ]
  },
  {
   "cell_type": "code",
   "execution_count": 92,
   "metadata": {},
   "outputs": [],
   "source": [
    "dim_1 = 2\n",
    "dim_2 = 2"
   ]
  },
  {
   "cell_type": "code",
   "execution_count": 110,
   "metadata": {
    "tags": []
   },
   "outputs": [],
   "source": [
    "def make_inputs(dim_1, dim_2, dim1idx, dim2idx, n):\n",
    "    diagindex = jax.numpy.arange(0,min(dim_1, dim_2) - (dim1idx + dim2idx))\n",
    "    diag = T.Variable((diagindex), \"float32\", \"dimension internal index\")\n",
    "    dim1ph = T.Variable(dim_1, \"float32\", \"dimension 1 max\")\n",
    "    dim2ph = T.Variable(dim_2, \"float32\", \"dimension 2 max\")\n",
    "    dim1idxph = T.Variable(dim1idx, \"float32\", \"dimension 1 index\")\n",
    "    dim2idxph = T.Variable(dim2idx, \"float32\", \"dimension 2 index\")\n",
    "    nph = T.Variable(n, \"float32\", \"n\")\n",
    "    return diag, dim1ph, dim2ph, dim1idxph, dim2idxph, nph\n",
    "\n",
    "def create_func_for_diag(rntk, dim_1, dim_2, dim1idx, dim2idx, n, function = False):\n",
    "    diag, dim1ph, dim2ph, dim1idxph, dim2idxph, nph = make_inputs(dim_1, dim_2, dim1idx, dim2idx, n)\n",
    "\n",
    "    ## prev_vals - (2,1) - previous phi and lambda values\n",
    "    ## idx - where we are on the diagonal\n",
    "    ## d1idx - y value of first dimension diag start\n",
    "    ## d2idx - x value of second dimension diag start\n",
    "    ## d1ph - max value of first dimension\n",
    "    ## d2ph - max value of second dimension\n",
    "    bc = rntk.sh ** 2 * rntk.sw ** 2 * T.eye(n, n) + (rntk.su ** 2) + rntk.sb ** 2 ## took out an X\n",
    "    single_boundary_condition = T.expand_dims(T.Variable((bc), \"float32\", \"boundary_condition\"), axis = 0)\n",
    "    boundary_condition = T.concatenate([single_boundary_condition, single_boundary_condition])\n",
    "\n",
    "    def fn(prev_vals, idx, d1ph, d2ph, d1idx, d2idx, nph):\n",
    "        # tiprime_iter = d1idx + idx\n",
    "        # ti_iter = d2idx + idx\n",
    "        prev_lambda = prev_vals[0]\n",
    "        prev_phi = prev_vals[1]\n",
    "        ## not boundary condition\n",
    "        S, D = rntk.VT(prev_lambda)\n",
    "        new_lambda = rntk.sw ** 2 * S + rntk.su ** 2 + rntk.sb ** 2 ## took out an X\n",
    "        new_phi = new_lambda + rntk.sw ** 2 * prev_phi * D\n",
    "        lambda_expanded = T.expand_dims(new_lambda, axis = 0)\n",
    "        phi_expanded = T.expand_dims(new_phi, axis = 0)\n",
    "        to_return = T.concatenate([lambda_expanded, phi_expanded])\n",
    "        \n",
    "        return to_return, to_return\n",
    "\n",
    "    last_ema, all_ema = T.scan(\n",
    "        fn, init = boundary_condition, sequences=[diag], non_sequences=[dim1ph, dim2ph, dim1idxph, dim2idxph,  nph]\n",
    "    )\n",
    "\n",
    "    expanded_ema = T.concatenate([T.expand_dims(boundary_condition, axis = 0), all_ema])\n",
    "    if function: \n",
    "        f = symjax.function(diag, dim1ph, dim2ph, dim1idxph, dim2idxph, nph, outputs=expanded_ema)\n",
    "        return f\n",
    "    else:\n",
    "        return expanded_ema\n",
    "\n",
    "def diag_func_wrapper(rntk, dim_1, dim_2, dim_1_idx, dim_2_idx, n, fbool = False):\n",
    "    f = create_func_for_diag(rntk, dim_1, dim_2, dim_1_idx, dim_2_idx, n, function = fbool)\n",
    "    if fbool:\n",
    "        return f(np.arange(0,min(dim_1, dim_2) - (dim_1_idx + dim_2_idx)), dim_1, dim_2, dim_1_idx, dim_2_idx, n)\n",
    "    return f"
   ]
  },
  {
   "cell_type": "code",
   "execution_count": 130,
   "metadata": {},
   "outputs": [],
   "source": [
    "array_of_diags=T.concatenate([diag_func_wrapper(rntk, 2,2,i[0],i[1],n) for i in zip(tiprimes, tis)])"
   ]
  },
  {
   "cell_type": "code",
   "execution_count": 132,
   "metadata": {},
   "outputs": [
    {
     "data": {
      "text/plain": [
       "Op(name=concatenate_188, fn=concatenate, shape=(9, 2, 10, 10), dtype=float32, scope=/default)"
      ]
     },
     "execution_count": 132,
     "metadata": {},
     "output_type": "execute_result"
    }
   ],
   "source": [
    "array_of_diags"
   ]
  },
  {
   "cell_type": "code",
   "execution_count": 131,
   "metadata": {},
   "outputs": [],
   "source": [
    "def index_func(whic):\n",
    "    return sum([3-np.abs(i-2) for i in range(0, whic)])"
   ]
  },
  {
   "cell_type": "code",
   "execution_count": 133,
   "metadata": {},
   "outputs": [
    {
     "data": {
      "text/plain": [
       "[[Op(name=_rewriting_take_249, fn=_rewriting_take, shape=(2, 10, 10), dtype=float32, scope=/default),\n",
       "  Op(name=_rewriting_take_250, fn=_rewriting_take, shape=(2, 10, 10), dtype=float32, scope=/default),\n",
       "  Op(name=_rewriting_take_251, fn=_rewriting_take, shape=(2, 10, 10), dtype=float32, scope=/default)],\n",
       " [Op(name=_rewriting_take_252, fn=_rewriting_take, shape=(2, 10, 10), dtype=float32, scope=/default),\n",
       "  Op(name=_rewriting_take_253, fn=_rewriting_take, shape=(2, 10, 10), dtype=float32, scope=/default),\n",
       "  Op(name=_rewriting_take_254, fn=_rewriting_take, shape=(2, 10, 10), dtype=float32, scope=/default)],\n",
       " [Op(name=_rewriting_take_255, fn=_rewriting_take, shape=(2, 10, 10), dtype=float32, scope=/default),\n",
       "  Op(name=_rewriting_take_256, fn=_rewriting_take, shape=(2, 10, 10), dtype=float32, scope=/default),\n",
       "  Op(name=_rewriting_take_257, fn=_rewriting_take, shape=(2, 10, 10), dtype=float32, scope=/default)]]"
      ]
     },
     "execution_count": 133,
     "metadata": {},
     "output_type": "execute_result"
    }
   ],
   "source": [
    "full = []\n",
    "for i in range(0,3): #these are rows\n",
    "    column = []\n",
    "    for j in range(0,3): #these are columns\n",
    "        list_index = min(2-i, j)\n",
    "        which_list = j + i\n",
    "        new_list_idx = list_index + index_func(which_list)\n",
    "        column.append(array_of_diags[new_list_idx])\n",
    "    full.append(column)\n",
    "full"
   ]
  },
  {
   "cell_type": "code",
   "execution_count": null,
   "metadata": {},
   "outputs": [],
   "source": []
  }
 ],
 "metadata": {
  "interpreter": {
   "hash": "75ea476c9aa0a226cd89b4490bc52fe58252f10ababefc8536aec1f153efc68d"
  },
  "kernelspec": {
   "display_name": "Python 3.7.9 64-bit ('RNTKVENV': venv)",
   "name": "python3"
  },
  "language_info": {
   "codemirror_mode": {
    "name": "ipython",
    "version": 3
   },
   "file_extension": ".py",
   "mimetype": "text/x-python",
   "name": "python",
   "nbconvert_exporter": "python",
   "pygments_lexer": "ipython3",
   "version": "3.7.9"
  },
  "orig_nbformat": 4
 },
 "nbformat": 4,
 "nbformat_minor": 2
}