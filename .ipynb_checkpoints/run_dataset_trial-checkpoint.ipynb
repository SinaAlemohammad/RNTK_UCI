{
 "cells": [
  {
   "cell_type": "code",
   "execution_count": 4,
   "metadata": {},
   "outputs": [],
   "source": [
    "%load_ext line_profiler\n",
    "%load_ext autoreload\n",
    "%autoreload 2"
   ]
  },
  {
   "cell_type": "code",
   "execution_count": 3,
   "metadata": {},
   "outputs": [],
   "source": [
    "import numpy as np\n",
    "import jax.numpy as jnp\n",
    "import old.tools, old.RNTK_avg\n",
    "import jax\n",
    "import symjax\n",
    "import symjax.tensor as T\n",
    "import copy\n",
    "import time\n",
    "\n",
    "from RNTK_onediag_dual import RNTK as RNTKOD_dual\n",
    "from RNTK_onediag_dual import create_func as create_func_dual"
   ]
  },
  {
   "cell_type": "code",
   "execution_count": 4,
   "metadata": {},
   "outputs": [],
   "source": [
    "# dataset = \"trains\"\n",
    "# dataset = \"bank\""
   ]
  },
  {
   "cell_type": "code",
   "execution_count": 5,
   "metadata": {},
   "outputs": [],
   "source": [
    "# dic = {k:v for k,v in map(lambda x : x.split(), open(\"data\" + \"/\" + dataset + \"/\" + dataset + \".txt\", \"r\").readlines())}\n",
    "dic = {}"
   ]
  },
  {
   "cell_type": "code",
   "execution_count": 6,
   "metadata": {},
   "outputs": [],
   "source": [
    "def run_and_test(dic):\n",
    "    diag_func, rntk_dual = create_func_dual(dic, True)\n",
    "    fake_data_ti = np.zeros((dic[\"n_patrons1=\"],dic[\"n_entradasTi=\"]))\n",
    "    fake_data_tiprime = np.zeros((dic[\"n_patrons1=\"],dic[\"n_entradasTiP=\"]))\n",
    "    start = time.time()\n",
    "    result = diag_func(fake_data_ti, fake_data_tiprime)\n",
    "    # # gp_kernel = result[0]\n",
    "    # # rntk_kernel = result[1]\n",
    "    print(\"time to compute \", time.time() - start)\n",
    "    return result"
   ]
  },
  {
   "cell_type": "code",
   "execution_count": 7,
   "metadata": {},
   "outputs": [],
   "source": [
    "import json"
   ]
  },
  {
   "cell_type": "code",
   "execution_count": 18,
   "metadata": {},
   "outputs": [],
   "source": [
    "dic[\"n_patrons1=\"] = 10#00 #// N (what affect symjax time)\n",
    "dic[\"n_entradasTiP=\"] = 100 #99 works, 100 does not\n",
    "dic[\"n_entradasTi=\"] = 10"
   ]
  },
  {
   "cell_type": "code",
   "execution_count": 19,
   "metadata": {},
   "outputs": [
    {
     "name": "stdout",
     "output_type": "stream",
     "text": [
      "time to create symjax 2.9667959213256836\n",
      "time to compute  2.7454800605773926\n"
     ]
    },
    {
     "data": {
      "text/plain": [
       "array([[[nan, nan, nan, nan, nan, nan, nan, nan, nan, nan],\n",
       "        [nan, nan, nan, nan, nan, nan, nan, nan, nan, nan],\n",
       "        [nan, nan, nan, nan, nan, nan, nan, nan, nan, nan],\n",
       "        [nan, nan, nan, nan, nan, nan, nan, nan, nan, nan],\n",
       "        [nan, nan, nan, nan, nan, nan, nan, nan, nan, nan],\n",
       "        [nan, nan, nan, nan, nan, nan, nan, nan, nan, nan],\n",
       "        [nan, nan, nan, nan, nan, nan, nan, nan, nan, nan],\n",
       "        [nan, nan, nan, nan, nan, nan, nan, nan, nan, nan],\n",
       "        [nan, nan, nan, nan, nan, nan, nan, nan, nan, nan],\n",
       "        [nan, nan, nan, nan, nan, nan, nan, nan, nan, nan]],\n",
       "\n",
       "       [[nan, nan, nan, nan, nan, nan, nan, nan, nan, nan],\n",
       "        [nan, nan, nan, nan, nan, nan, nan, nan, nan, nan],\n",
       "        [nan, nan, nan, nan, nan, nan, nan, nan, nan, nan],\n",
       "        [nan, nan, nan, nan, nan, nan, nan, nan, nan, nan],\n",
       "        [nan, nan, nan, nan, nan, nan, nan, nan, nan, nan],\n",
       "        [nan, nan, nan, nan, nan, nan, nan, nan, nan, nan],\n",
       "        [nan, nan, nan, nan, nan, nan, nan, nan, nan, nan],\n",
       "        [nan, nan, nan, nan, nan, nan, nan, nan, nan, nan],\n",
       "        [nan, nan, nan, nan, nan, nan, nan, nan, nan, nan],\n",
       "        [nan, nan, nan, nan, nan, nan, nan, nan, nan, nan]]],\n",
       "      dtype=float32)"
      ]
     },
     "execution_count": 19,
     "metadata": {},
     "output_type": "execute_result"
    }
   ],
   "source": [
    "run_and_test(dic)"
   ]
  },
  {
   "cell_type": "markdown",
   "metadata": {},
   "source": [
    "lets execute the symjax"
   ]
  },
  {
   "cell_type": "code",
   "execution_count": 10,
   "metadata": {},
   "outputs": [],
   "source": [
    "# fake_data_ti = np.zeros((dic[\"n_patrons1=\"],dic[\"n_entradasTi=\"]))\n",
    "# fake_data_tiprime = np.zeros((dic[\"n_patrons1=\"],dic[\"n_entradasTiP=\"]))"
   ]
  },
  {
   "cell_type": "code",
   "execution_count": 11,
   "metadata": {},
   "outputs": [],
   "source": [
    "# start = time.time()\n",
    "# result = diag_func(fake_data_ti, fake_data_tiprime)\n",
    "# # # gp_kernel = result[0]\n",
    "# # # rntk_kernel = result[1]\n",
    "# print(time.time() - start)\n",
    "# result"
   ]
  },
  {
   "cell_type": "code",
   "execution_count": 12,
   "metadata": {},
   "outputs": [],
   "source": [
    "# %%timeit\n",
    "# diag_func(fake_data)"
   ]
  },
  {
   "cell_type": "code",
   "execution_count": null,
   "metadata": {},
   "outputs": [],
   "source": []
  }
 ],
 "metadata": {
  "interpreter": {
   "hash": "75ea476c9aa0a226cd89b4490bc52fe58252f10ababefc8536aec1f153efc68d"
  },
  "kernelspec": {
   "display_name": "Python 3 (ipykernel)",
   "language": "python",
   "name": "python3"
  },
  "language_info": {
   "codemirror_mode": {
    "name": "ipython",
    "version": 3
   },
   "file_extension": ".py",
   "mimetype": "text/x-python",
   "name": "python",
   "nbconvert_exporter": "python",
   "pygments_lexer": "ipython3",
   "version": "3.8.1"
  }
 },
 "nbformat": 4,
 "nbformat_minor": 2
}
