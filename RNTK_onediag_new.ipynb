{
 "cells": [
  {
   "cell_type": "code",
   "execution_count": 1,
   "source": [
    "%load_ext line_profiler\n",
    "%load_ext autoreload\n",
    "%autoreload 2"
   ],
   "outputs": [],
   "metadata": {}
  },
  {
   "cell_type": "code",
   "execution_count": 6,
   "source": [
    "import numpy as np\n",
    "import old.tools, old.RNTK_avg\n",
    "import jax\n",
    "import symjax\n",
    "import symjax.tensor as T\n",
    "import copy\n",
    "from RNTK_NEW import RNTK\n",
    "import time\n",
    "\n",
    "from RNTK_onediag_dual import RNTK\n",
    "from RNTK_onediag_dual import create_func as create_func_dual"
   ],
   "outputs": [],
   "metadata": {}
  },
  {
   "cell_type": "code",
   "execution_count": null,
   "source": [
    "import numpy as np\n",
    "\n",
    "n1 = 10\n",
    "n2 = 20\n",
    "\n",
    "Qx = np.ones(n1)\n",
    "Qxprime = np.ones(n2)\n",
    "M = np.ones((n1,n2))\n",
    "\n",
    "def alg2_VT(Qx,Qxprime,M): #K1, K2, K3\n",
    "    B = np.outer(Qx,Qxprime)\n",
    "    C = np.sqrt(B)  # in R^{n*n}\n",
    "    D = M / C  # this is lamblda in ReLU analyrucal formula\n",
    "    E = np.clip(D, -1, 1)  # clipping E between -1 and 1 for numerical stability.\n",
    "    F = (1 / (2 * np.pi)) * (E * (np.pi - np.arccos(E)) + np.sqrt(1 - E ** 2)) * C\n",
    "    G = (np.pi - np.arccos(E)) / (2 * np.pi)\n",
    "    return F,G\n",
    "\n",
    "F,G =  VT(Qx,Qxprime,M)"
   ],
   "outputs": [],
   "metadata": {}
  },
  {
   "cell_type": "code",
   "execution_count": 38,
   "source": [
    "dic = {}\n",
    "dic[\"n_patrons1=\"] = 10#00 #// N (what affect symjax time)\n",
    "dic[\"n_entradasTiP=\"] = 2#00 #// TiPrime length\n",
    "dic[\"n_entradasTi=\"] = 5#00 #// Ti length (multiplier on symjax time)\n",
    "N = int(dic[\"n_patrons1=\"])\n",
    "ti_length = int(dic[\"n_entradasTi=\"])\n",
    "DATA = T.Placeholder((N, ti_length), 'float32', name = \"X\")\n"
   ],
   "outputs": [],
   "metadata": {}
  },
  {
   "cell_type": "code",
   "execution_count": 39,
   "source": [
    "rntk = RNTK(None, None, None, True)"
   ],
   "outputs": [],
   "metadata": {}
  },
  {
   "cell_type": "code",
   "execution_count": 45,
   "source": [
    "DATAT[0]"
   ],
   "outputs": [
    {
     "output_type": "execute_result",
     "data": {
      "text/plain": [
       "Op(name=_rewriting_take_3, fn=_rewriting_take, shape=(10,), dtype=float32, scope=/default)"
      ]
     },
     "metadata": {},
     "execution_count": 45
    }
   ],
   "metadata": {}
  },
  {
   "cell_type": "code",
   "execution_count": null,
   "source": [
    "# ok so we have to compute for both T and Tprime at once? but does this mean that they have to be the same length? or was this the T + TP?\n",
    "def compute_q(T, DATA):\n",
    "    DATAT = T.transpose(DATA)\n",
    "    xz = DATAT[0]\n",
    "    init = rntk.su * 2 * xz*xz[:, None] + rntk.sb**2 + rntk.sh**2\n",
    "\n",
    "    def scan_func(MINIDATAT, prevq):\n",
    "        #calculate Q(1, t-1)\n",
    "            #calculate q(t)\n",
    "            #calculate q(t')\n",
    "        return carry, ret_val"
   ],
   "outputs": [],
   "metadata": {}
  },
  {
   "cell_type": "code",
   "execution_count": 48,
   "source": [
    "n1 = 10\n",
    "n2 = 20\n",
    "\n",
    "Qx = np.ones(n1)\n",
    "Qxprime = np.ones(n2)\n",
    "M = np.ones((n1,n2))"
   ],
   "outputs": [],
   "metadata": {}
  },
  {
   "cell_type": "code",
   "execution_count": 51,
   "source": [
    "np.outer(Qx,Qxprime).shape"
   ],
   "outputs": [
    {
     "output_type": "execute_result",
     "data": {
      "text/plain": [
       "(10, 20)"
      ]
     },
     "metadata": {},
     "execution_count": 51
    }
   ],
   "metadata": {}
  },
  {
   "cell_type": "code",
   "execution_count": null,
   "source": [],
   "outputs": [],
   "metadata": {}
  }
 ],
 "metadata": {
  "orig_nbformat": 4,
  "language_info": {
   "name": "python",
   "version": "3.8.3",
   "mimetype": "text/x-python",
   "codemirror_mode": {
    "name": "ipython",
    "version": 3
   },
   "pygments_lexer": "ipython3",
   "nbconvert_exporter": "python",
   "file_extension": ".py"
  },
  "kernelspec": {
   "name": "python3",
   "display_name": "Python 3.8.3 64-bit ('RNTKVENV': venv)"
  },
  "interpreter": {
   "hash": "d26fdf873f014723235340e32a6964eb154e0cf3c43acdd9f6a19e9d9e78844e"
  }
 },
 "nbformat": 4,
 "nbformat_minor": 2
}