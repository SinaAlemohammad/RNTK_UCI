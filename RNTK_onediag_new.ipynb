{
 "cells": [
  {
   "cell_type": "code",
   "execution_count": 5,
   "source": [
    "%load_ext line_profiler\n",
    "%load_ext autoreload\n",
    "%autoreload 2"
   ],
   "outputs": [],
   "metadata": {}
  },
  {
   "cell_type": "code",
   "execution_count": 7,
   "source": [
    "import numpy as np\n",
    "import old.tools, old.RNTK_avg\n",
    "import jax\n",
    "import symjax\n",
    "import symjax.tensor as T\n",
    "import copy\n",
    "from RNTK_NEW import RNTK\n",
    "import time\n",
    "\n",
    "from RNTK_onediag_dual import RNTK\n",
    "from RNTK_onediag_dual import create_func as create_func_dual"
   ],
   "outputs": [],
   "metadata": {}
  },
  {
   "cell_type": "code",
   "execution_count": 8,
   "source": [
    "import numpy as np\n",
    "\n",
    "# n1 = 10\n",
    "# n2 = 20\n",
    "\n",
    "# Qx = np.ones(n1)\n",
    "# Qxprime = np.ones(n2)\n",
    "# M = np.ones((n1,n2))\n",
    "\n",
    "\n",
    "# F,G =  VT(Qx,Qxprime,M)"
   ],
   "outputs": [],
   "metadata": {}
  },
  {
   "cell_type": "code",
   "execution_count": null,
   "source": [
    "# get old vt for the first algorithm"
   ],
   "outputs": [],
   "metadata": {}
  },
  {
   "cell_type": "code",
   "execution_count": 12,
   "source": [
    "dic = {}\n",
    "dic[\"n_patrons1=\"] = 10#00 #// N (what affect symjax time)\n",
    "dic[\"n_entradasTiP=\"] = 2#00 #// TiPrime length\n",
    "dic[\"n_entradasTi=\"] = 5#00 #// Ti length (multiplier on symjax time)\n",
    "N = int(dic[\"n_patrons1=\"])\n",
    "ti_length = int(dic[\"n_entradasTi=\"])\n",
    "DATA = T.Placeholder((N, ti_length), 'float32', name = \"X\")\n",
    "\n",
    "#testing\n",
    "DATA_NP = np.zeros((N, ti_length))\n",
    "DATA_NP_T = np.transpose(DATA_NP)\n"
   ],
   "outputs": [],
   "metadata": {}
  },
  {
   "cell_type": "code",
   "execution_count": 10,
   "source": [
    "rntk = RNTK(None, None, None, True)"
   ],
   "outputs": [],
   "metadata": {}
  },
  {
   "cell_type": "code",
   "execution_count": null,
   "source": [
    "# ok so we have to compute for both T and Tprime at once? but does this mean that they have to be the same length? or was this the T + TP?\n",
    "def compute_q(T, DATA):\n",
    "    DATAT = T.transpose(DATA)\n",
    "    xz = DATAT[0]\n",
    "    init = rntk.su * 2 * T.linalg.norm(xz, ord = 2) + rntk.sb**2 + rntk.sh**2\n",
    "\n",
    "    def scan_func(MINIDATAT, prevq):\n",
    "        # the trick to this one is to use the original VT\n",
    "        S, _ = rntk.alg1_VT(prevq) # -> M is K3 \n",
    "        newq = rntk.sw*2 * S + rntk.su * 2 * T.linalg.norm(MINIDATAT, ord = 2) + rntk.sb**2\n",
    "        return newq, newq\n",
    "    \n",
    "    T.scan(scan_func, init = init, sequences = DATAT[1:])"
   ],
   "outputs": [],
   "metadata": {}
  },
  {
   "cell_type": "code",
   "execution_count": 13,
   "source": [],
   "outputs": [],
   "metadata": {}
  },
  {
   "cell_type": "code",
   "execution_count": null,
   "source": [],
   "outputs": [],
   "metadata": {}
  }
 ],
 "metadata": {
  "orig_nbformat": 4,
  "language_info": {
   "name": "python",
   "version": "3.7.9",
   "mimetype": "text/x-python",
   "codemirror_mode": {
    "name": "ipython",
    "version": 3
   },
   "pygments_lexer": "ipython3",
   "nbconvert_exporter": "python",
   "file_extension": ".py"
  },
  "kernelspec": {
   "name": "python3",
   "display_name": "Python 3.7.9 64-bit ('RNTKVENV': venv)"
  },
  "interpreter": {
   "hash": "75ea476c9aa0a226cd89b4490bc52fe58252f10ababefc8536aec1f153efc68d"
  }
 },
 "nbformat": 4,
 "nbformat_minor": 2
}