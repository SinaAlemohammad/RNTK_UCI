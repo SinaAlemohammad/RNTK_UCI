{
 "cells": [
  {
   "cell_type": "code",
   "execution_count": 1,
   "source": [
    "%load_ext line_profiler\n",
    "%load_ext autoreload\n",
    "%autoreload 2"
   ],
   "outputs": [],
   "metadata": {}
  },
  {
   "cell_type": "code",
   "execution_count": 2,
   "source": [
    "import numpy as np\n",
    "import old.tools, old.RNTK_avg\n",
    "import jax\n",
    "import symjax\n",
    "import symjax.tensor as T\n",
    "import copy\n",
    "from RNTK_NEW import RNTK\n",
    "import time\n",
    "\n",
    "from RNTK_onediag_dual import RNTK\n",
    "from RNTK_onediag_dual import create_func as create_func_dual"
   ],
   "outputs": [],
   "metadata": {}
  },
  {
   "cell_type": "code",
   "execution_count": 3,
   "source": [
    "import numpy as np\n",
    "\n",
    "# n1 = 10\n",
    "# n2 = 20\n",
    "\n",
    "# Qx = np.ones(n1)\n",
    "# Qxprime = np.ones(n2)\n",
    "# M = np.ones((n1,n2))\n",
    "\n",
    "\n",
    "# F,G =  VT(Qx,Qxprime,M)"
   ],
   "outputs": [],
   "metadata": {}
  },
  {
   "cell_type": "code",
   "execution_count": 4,
   "source": [
    "# get old vt for the first algorithm"
   ],
   "outputs": [],
   "metadata": {}
  },
  {
   "cell_type": "code",
   "execution_count": 5,
   "source": [
    "dic = {}\n",
    "dic[\"n_patrons1=\"] = 10#00 #// N (what affect symjax time)\n",
    "dic[\"n_entradasTiP=\"] = 2#00 #// TiPrime length\n",
    "dic[\"n_entradasTi=\"] = 5#00 #// Ti length (multiplier on symjax time)\n",
    "N = int(dic[\"n_patrons1=\"])\n",
    "ti_length = int(dic[\"n_entradasTi=\"])\n",
    "DATA = T.Placeholder((N, ti_length), 'float32', name = \"X\")\n",
    "DATAT = T.transpose(DATA)\n",
    "#testing\n",
    "DATA_NP = np.zeros((N, ti_length))\n",
    "DATA_NP_T = np.transpose(DATA_NP)\n"
   ],
   "outputs": [],
   "metadata": {}
  },
  {
   "cell_type": "code",
   "execution_count": 6,
   "source": [
    "rntk = RNTK(None, None, None, True)"
   ],
   "outputs": [],
   "metadata": {}
  },
  {
   "cell_type": "code",
   "execution_count": 29,
   "source": [],
   "outputs": [],
   "metadata": {}
  },
  {
   "cell_type": "code",
   "execution_count": 30,
   "source": [
    "q = compute_q(DATA)\n",
    "q_prime = compute_q(DATA)"
   ],
   "outputs": [],
   "metadata": {}
  },
  {
   "cell_type": "code",
   "execution_count": null,
   "source": [],
   "outputs": [],
   "metadata": {}
  }
 ],
 "metadata": {
  "orig_nbformat": 4,
  "language_info": {
   "name": "python",
   "version": "3.8.3",
   "mimetype": "text/x-python",
   "codemirror_mode": {
    "name": "ipython",
    "version": 3
   },
   "pygments_lexer": "ipython3",
   "nbconvert_exporter": "python",
   "file_extension": ".py"
  },
  "kernelspec": {
   "name": "python3",
   "display_name": "Python 3.8.3 64-bit ('RNTKVENV': venv)"
  },
  "interpreter": {
   "hash": "d26fdf873f014723235340e32a6964eb154e0cf3c43acdd9f6a19e9d9e78844e"
  }
 },
 "nbformat": 4,
 "nbformat_minor": 2
}