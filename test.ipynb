{
 "metadata": {
  "language_info": {
   "codemirror_mode": {
    "name": "ipython",
    "version": 3
   },
   "file_extension": ".py",
   "mimetype": "text/x-python",
   "name": "python",
   "nbconvert_exporter": "python",
   "pygments_lexer": "ipython3",
   "version": "3.7.9"
  },
  "orig_nbformat": 4,
  "kernelspec": {
   "name": "rntkvenv",
   "display_name": "Python 3.7.9  ('RNTKVENV': venv)"
  }
 },
 "nbformat": 4,
 "nbformat_minor": 2,
 "cells": [
  {
   "cell_type": "code",
   "execution_count": 1,
   "metadata": {},
   "outputs": [],
   "source": [
    "import symjax as sj\n",
    "import symjax.tensor as T\n",
    "import numpy as np"
   ]
  },
  {
   "cell_type": "code",
   "execution_count": 2,
   "metadata": {},
   "outputs": [
    {
     "output_type": "error",
     "ename": "SyntaxError",
     "evalue": "can't assign to function call (<ipython-input-2-774f2f1fef76>, line 2)",
     "traceback": [
      "\u001b[0;36m  File \u001b[0;32m\"<ipython-input-2-774f2f1fef76>\"\u001b[0;36m, line \u001b[0;32m2\u001b[0m\n\u001b[0;31m    inp = tuple(list(test[4])) = test\u001b[0m\n\u001b[0m         ^\u001b[0m\n\u001b[0;31mSyntaxError\u001b[0m\u001b[0;31m:\u001b[0m can't assign to function call\n"
     ]
    }
   ],
   "source": [
    "test = (2,2,2,2)\n",
    "inp = tuple(list(test[4])) = test"
   ]
  },
  {
   "cell_type": "code",
   "execution_count": 3,
   "metadata": {},
   "outputs": [],
   "source": [
    "def body_func(inp, carry):\n",
    "    print(\"in body function\")\n",
    "    tiprime_iter = inp[0]\n",
    "    ti_iter = inp[1]\n",
    "    # carry = T.index_update(carry, (1,1), 2)\n",
    "    test = T.index_update(inp[4], (1,1), 2)\n",
    "    inplist = list(inp)\n",
    "    inplist[4] = test\n",
    "    inp = tuple(inplist)\n",
    "    # carry[ti_iter, tiprime_iter] = ti_iter \n",
    "    return (tiprime_iter + 1, ti_iter + 1, inp[2], inp[3], inp[4])"
   ]
  },
  {
   "cell_type": "code",
   "execution_count": 4,
   "metadata": {},
   "outputs": [],
   "source": [
    "def cond_funct(inp):\n",
    "    print(\"in cond function\")\n",
    "    tip_iter = inp[0]\n",
    "    ti_iter = inp[1]\n",
    "    dim1max = inp[2]\n",
    "    dim2max = inp[3]\n",
    "    # print(dim1max)\n",
    "    # print(tip_iter)\n",
    "    # return T.less_equal(tip_iter, dim1max)\n",
    "    return T.logical_and(T.less_equal(tip_iter, dim1max), T.less_equal(ti_iter, dim2max))"
   ]
  },
  {
   "cell_type": "code",
   "execution_count": 5,
   "metadata": {},
   "outputs": [
    {
     "output_type": "stream",
     "name": "stderr",
     "text": [
      "WARNING:absl:No GPU/TPU found, falling back to CPU. (Set TF_CPP_MIN_LOG_LEVEL=0 and rerun for more info.)\n",
      "(array(5., dtype=float32), array(16., dtype=float32))\n",
      "(array(3., dtype=float32), array(4., dtype=float32))\n"
     ]
    }
   ],
   "source": [
    "w = T.Variable(1.0, dtype=\"float32\")\n",
    "v = T.Placeholder((), \"float32\")\n",
    "out = T.while_loop(\n",
    "    lambda i, u: i[0] + u < 5,\n",
    "    lambda i: (i[0] + 1.0, i[0] ** 2),\n",
    "    (w, 1.0),\n",
    "    non_sequences_cond=[v]\n",
    ")\n",
    "f = sj.function(v, outputs=out)\n",
    "print(f(0))\n",
    "# 5, 16\n",
    "print(f(2))\n",
    "# [3, 4]"
   ]
  },
  {
   "cell_type": "code",
   "execution_count": 6,
   "metadata": {},
   "outputs": [
    {
     "output_type": "stream",
     "name": "stdout",
     "text": [
      "in cond function\nin body function\n"
     ]
    }
   ],
   "source": [
    "signal = T.Placeholder((2,), \"float32\", name=\"signal\")\n",
    "dim1ph = T.Variable(2, \"float32\", \"alpha\")\n",
    "dim2ph = T.Variable(2, \"float32\", \"alpha\")\n",
    "ct = T.Placeholder((2,2), \"float32\", name = \"diag_vals\")\n",
    "# ct = -np.ones(np.min([2,2]))\n",
    "# nph = T.Variable(n, \"float32\", \"alpha\")\n",
    "output = T.while_loop(\n",
    "    lambda a: cond_funct(a), # condition\n",
    "    lambda a,b: body_func(a,b), # body\n",
    "    [signal[0], signal[1], dim1ph, dim2ph, ct], # init \n",
    "    non_sequences_body=[ct]\n",
    ")\n",
    "f = sj.function(signal, ct, outputs=output)"
   ]
  },
  {
   "cell_type": "code",
   "execution_count": 7,
   "metadata": {},
   "outputs": [
    {
     "output_type": "stream",
     "name": "stdout",
     "text": [
      "in cond function\nin body function\n"
     ]
    }
   ],
   "source": [
    "c_test = np.zeros((2,2))\n",
    "final_state = f(np.array([0,0]), c_test)"
   ]
  },
  {
   "cell_type": "code",
   "execution_count": 8,
   "metadata": {},
   "outputs": [
    {
     "output_type": "execute_result",
     "data": {
      "text/plain": [
       "array([[0., 0.],\n",
       "       [0., 0.]])"
      ]
     },
     "metadata": {},
     "execution_count": 8
    }
   ],
   "source": [
    "c_test"
   ]
  },
  {
   "cell_type": "code",
   "execution_count": 9,
   "metadata": {},
   "outputs": [
    {
     "output_type": "execute_result",
     "data": {
      "text/plain": [
       "(array(3, dtype=int32),\n",
       " array(3, dtype=int32),\n",
       " array(2, dtype=int32),\n",
       " array(2, dtype=int32),\n",
       " array([[0., 0.],\n",
       "        [0., 2.]], dtype=float32))"
      ]
     },
     "metadata": {},
     "execution_count": 9
    }
   ],
   "source": [
    "final_state"
   ]
  },
  {
   "cell_type": "code",
   "execution_count": null,
   "metadata": {},
   "outputs": [],
   "source": []
  }
 ]
}