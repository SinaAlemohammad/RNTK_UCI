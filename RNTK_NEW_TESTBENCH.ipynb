{
 "cells": [
  {
   "cell_type": "code",
   "execution_count": 1,
   "metadata": {},
   "outputs": [],
   "source": [
    "%load_ext autoreload\n",
    "%autoreload 2"
   ]
  },
  {
   "cell_type": "code",
   "execution_count": 2,
   "metadata": {},
   "outputs": [],
   "source": [
    "import numpy as np\n",
    "import tools, RNTK_avg\n",
    "import jax\n",
    "import symjax\n",
    "import symjax.tensor as T\n",
    "import copy\n",
    "from RNTK_NEW import RNTK"
   ]
  },
  {
   "cell_type": "code",
   "execution_count": 3,
   "metadata": {},
   "outputs": [],
   "source": [
    "Ti = 2\n",
    "TiPrime = 2"
   ]
  },
  {
   "cell_type": "code",
   "execution_count": 4,
   "metadata": {},
   "outputs": [],
   "source": [
    "dataset = \"trains\""
   ]
  },
  {
   "cell_type": "code",
   "execution_count": 5,
   "metadata": {},
   "outputs": [],
   "source": [
    "dic = {k:v for k,v in map(lambda x : x.split(), open(\"data\" + \"/\" + dataset + \"/\" + dataset + \".txt\", \"r\").readlines())}"
   ]
  },
  {
   "cell_type": "code",
   "execution_count": 6,
   "metadata": {},
   "outputs": [],
   "source": [
    "N = int(dic[\"n_patrons1=\"])\n",
    "length = int(dic[\"n_entradas=\"])"
   ]
  },
  {
   "cell_type": "code",
   "execution_count": 7,
   "metadata": {},
   "outputs": [],
   "source": [
    "rntk = RNTK(dic)"
   ]
  },
  {
   "cell_type": "code",
   "execution_count": 8,
   "metadata": {},
   "outputs": [],
   "source": [
    "DATA = T.Placeholder((N, length), 'float32', name = \"X\")\n",
    "x = DATA[:,0]\n",
    "X = x*x[:, None]\n",
    "n = X.shape[0]"
   ]
  },
  {
   "cell_type": "markdown",
   "metadata": {},
   "source": [
    "## LAYER ZERO ATTEMPT\n"
   ]
  },
  {
   "cell_type": "code",
   "execution_count": 9,
   "metadata": {},
   "outputs": [],
   "source": [
    "switch_flag = 1\n",
    "dim_1_i = dim_1 = 2\n",
    "dim_2 = 2\n",
    "dim_2_i = 0\n",
    "dim_num = dim_1 + dim_2 + 1"
   ]
  },
  {
   "cell_type": "code",
   "execution_count": 10,
   "metadata": {},
   "outputs": [
    {
     "name": "stdout",
     "output_type": "stream",
     "text": [
      "2 0 1\n"
     ]
    }
   ],
   "source": [
    "tiprimes = []\n",
    "tis = []\n",
    "\n",
    "print(dim_1_i, dim_2_i, switch_flag)\n",
    "for d in range(0,dim_num):\n",
    "    tiprime = dim_1_i\n",
    "    ti = dim_2_i\n",
    "\n",
    "    # diag_func(tiprime, ti, dim_1, dim_2, rntk)\n",
    "    tiprimes.append(tiprime)\n",
    "    tis.append(ti)\n",
    "\n",
    "    if dim_1_i == 0:\n",
    "        switch_flag -= 1\n",
    "    else:\n",
    "        dim_1_i = dim_1_i - 1\n",
    "    if switch_flag <= 0:\n",
    "        dim_2_i = dim_2_i + 1"
   ]
  },
  {
   "cell_type": "markdown",
   "metadata": {},
   "source": [
    "## lets make a scan that does a diagonal"
   ]
  },
  {
   "cell_type": "code",
   "execution_count": 11,
   "metadata": {},
   "outputs": [],
   "source": [
    "from RNTK_NEW import RNTK, diag_func_wrapper, arrays_to_diag"
   ]
  },
  {
   "cell_type": "code",
   "execution_count": 12,
   "metadata": {},
   "outputs": [
    {
     "name": "stderr",
     "output_type": "stream",
     "text": [
      "WARNING:absl:No GPU/TPU found, falling back to CPU. (Set TF_CPP_MIN_LOG_LEVEL=0 and rerun for more info.)\n"
     ]
    }
   ],
   "source": [
    "array_of_diags=T.concatenate([diag_func_wrapper(rntk, 2,2,i[0],i[1],n) for i in zip(tiprimes, tis)])"
   ]
  },
  {
   "cell_type": "code",
   "execution_count": 13,
   "metadata": {},
   "outputs": [],
   "source": [
    "full_lambda, full_phi = arrays_to_diag(array_of_diags, dim_1, dim_2)"
   ]
  },
  {
   "cell_type": "code",
   "execution_count": 14,
   "metadata": {},
   "outputs": [
    {
     "name": "stdout",
     "output_type": "stream",
     "text": [
      "LAMBDA\n",
      "[[Op(name=_rewriting_take_18, fn=_rewriting_take, shape=(10, 10), dtype=float32, scope=/default)\n",
      "  Op(name=_rewriting_take_22, fn=_rewriting_take, shape=(10, 10), dtype=float32, scope=/default)\n",
      "  Op(name=_rewriting_take_26, fn=_rewriting_take, shape=(10, 10), dtype=float32, scope=/default)]\n",
      " [Op(name=_rewriting_take_30, fn=_rewriting_take, shape=(10, 10), dtype=float32, scope=/default)\n",
      "  Op(name=_rewriting_take_34, fn=_rewriting_take, shape=(10, 10), dtype=float32, scope=/default)\n",
      "  Op(name=_rewriting_take_38, fn=_rewriting_take, shape=(10, 10), dtype=float32, scope=/default)]\n",
      " [Op(name=_rewriting_take_42, fn=_rewriting_take, shape=(10, 10), dtype=float32, scope=/default)\n",
      "  Op(name=_rewriting_take_46, fn=_rewriting_take, shape=(10, 10), dtype=float32, scope=/default)\n",
      "  Op(name=_rewriting_take_50, fn=_rewriting_take, shape=(10, 10), dtype=float32, scope=/default)]]\n",
      "PHI\n",
      "[[Op(name=_rewriting_take_20, fn=_rewriting_take, shape=(10, 10), dtype=float32, scope=/default)\n",
      "  Op(name=_rewriting_take_24, fn=_rewriting_take, shape=(10, 10), dtype=float32, scope=/default)\n",
      "  Op(name=_rewriting_take_28, fn=_rewriting_take, shape=(10, 10), dtype=float32, scope=/default)]\n",
      " [Op(name=_rewriting_take_32, fn=_rewriting_take, shape=(10, 10), dtype=float32, scope=/default)\n",
      "  Op(name=_rewriting_take_36, fn=_rewriting_take, shape=(10, 10), dtype=float32, scope=/default)\n",
      "  Op(name=_rewriting_take_40, fn=_rewriting_take, shape=(10, 10), dtype=float32, scope=/default)]\n",
      " [Op(name=_rewriting_take_44, fn=_rewriting_take, shape=(10, 10), dtype=float32, scope=/default)\n",
      "  Op(name=_rewriting_take_48, fn=_rewriting_take, shape=(10, 10), dtype=float32, scope=/default)\n",
      "  Op(name=_rewriting_take_52, fn=_rewriting_take, shape=(10, 10), dtype=float32, scope=/default)]]\n"
     ]
    }
   ],
   "source": [
    "\n",
    "print(\"LAMBDA\")\n",
    "print(full_lambda)\n",
    "print(\"PHI\")\n",
    "print(full_phi)"
   ]
  },
  {
   "cell_type": "code",
   "execution_count": null,
   "metadata": {},
   "outputs": [],
   "source": []
  }
 ],
 "metadata": {
  "interpreter": {
   "hash": "75ea476c9aa0a226cd89b4490bc52fe58252f10ababefc8536aec1f153efc68d"
  },
  "kernelspec": {
   "display_name": "Python 3.7.9 64-bit ('RNTKVENV': venv)",
   "name": "python3"
  },
  "language_info": {
   "codemirror_mode": {
    "name": "ipython",
    "version": 3
   },
   "file_extension": ".py",
   "mimetype": "text/x-python",
   "name": "python",
   "nbconvert_exporter": "python",
   "pygments_lexer": "ipython3",
   "version": "3.7.9"
  },
  "orig_nbformat": 4
 },
 "nbformat": 4,
 "nbformat_minor": 2
}