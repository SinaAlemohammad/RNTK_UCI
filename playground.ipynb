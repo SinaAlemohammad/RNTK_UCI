{
 "cells": [
  {
   "cell_type": "code",
   "execution_count": 29,
   "id": "innocent-costs",
   "metadata": {},
   "outputs": [],
   "source": [
    "import numpy as np\n",
    "import RNTK_NEW\n",
    "import jax\n",
    "import symjax\n",
    "import symjax.tensor as T\n",
    "import math"
   ]
  },
  {
   "cell_type": "code",
   "execution_count": 30,
   "id": "consecutive-scott",
   "metadata": {},
   "outputs": [],
   "source": [
    "L = 2\n",
    "Ti = 2\n",
    "TiPrime = 2\n",
    "qmatrix = np.zeros([L,Ti],dtype = object)\n",
    "DATA = T.Placeholder((Ti, 8), 'float32')\n",
    "DATAPRIME = T.Placeholder((TiPrime, 8), 'float32')\n",
    "X = DATA[:,0]\n",
    "tx = X*X[:, None]\n",
    "n = tx.shape[0]\n",
    "su = 1\n",
    "sb = 1\n",
    "sh = 1\n",
    "sq = 1\n",
    "sw = 1"
   ]
  },
  {
   "cell_type": "code",
   "execution_count": 3,
   "id": "dietary-walter",
   "metadata": {},
   "outputs": [],
   "source": [
    "def normv(x):\n",
    "    return T.sqrt(T.sum(T.power(x, 2)))\n",
    "def capQ(lq):\n",
    "    return T.full((2,2), lq)"
   ]
  },
  {
   "cell_type": "code",
   "execution_count": 4,
   "id": "portuguese-alcohol",
   "metadata": {
    "tags": []
   },
   "outputs": [],
   "source": [
    "def VTq(M):\n",
    "    A = T.diag(M)  # GP_old is in R^{n*n} having the output gp kernel\n",
    "    # of all pairs of data in the data set\n",
    "    B = A * A[:, None]\n",
    "    C = T.sqrt(B)  # in R^{n*n}\n",
    "    D = M / C  # this is lamblda in ReLU analyrucal formula\n",
    "    E = T.clip(D, -1, 1)  # clipping E between -1 and 1 for numerical stability.\n",
    "    F = (1 / (2 * np.pi)) * (E * (np.pi - T.arccos(E)) + T.sqrt(1 - E ** 2)) * C\n",
    "    G = (np.pi - T.arccos(E)) / (2 * np.pi)\n",
    "    return F,G"
   ]
  },
  {
   "cell_type": "code",
   "execution_count": 5,
   "id": "amino-infrared",
   "metadata": {
    "tags": []
   },
   "outputs": [
    {
     "output_type": "stream",
     "name": "stderr",
     "text": [
      "WARNING:absl:No GPU/TPU found, falling back to CPU. (Set TF_CPP_MIN_LOG_LEVEL=0 and rerun for more info.)\n",
      "0 0\n",
      "1 0\n",
      "0 1\n",
      "1 1\n"
     ]
    }
   ],
   "source": [
    "for t in range(0, Ti):\n",
    "    for l in range(0, L):\n",
    "        print(l, t)\n",
    "        if ((t == l) & (l == 0)):\n",
    "            #assuming ||x|| means the norm of that vector\n",
    "            qmatrix[l, t] = su**2 * normv(X[0])**2 + sb**2 + sh ** 2\n",
    "\n",
    "        if ((t == 0) & (l > t)):\n",
    "\n",
    "            S,D = VTq(capQ(qmatrix[l-1,t]))\n",
    "            qmatrix[l, t] = su**2 * S + sb**2\n",
    "\n",
    "        if ((t > l) & (l == 0)):\n",
    "            S,D = VTq(capQ(qmatrix[l,t-1]))\n",
    "            qmatrix[l, t] = sw**2 * S + su**2 * normv(X[t])**2 + sb**2\n",
    "\n",
    "        if ((t > l) & (l > 0)):\n",
    "            S_left, D_left = VTq(capQ(qmatrix[l,t-1]))\n",
    "            S_right, D_right = VTq(capQ(qmatrix[l-1,t]))\n",
    "            qmatrix[l, t] = sw**2 * S_left + su**2 * D_right + sb**2\n"
   ]
  },
  {
   "source": [],
   "cell_type": "markdown",
   "metadata": {}
  },
  {
   "cell_type": "code",
   "execution_count": 6,
   "metadata": {},
   "outputs": [],
   "source": [
    "#MAKE ALGORITHM 2"
   ]
  },
  {
   "cell_type": "code",
   "execution_count": 38,
   "metadata": {},
   "outputs": [],
   "source": [
    "def Kfunc(l, t, tp):\n",
    "    elem1 = qmatrix[l,t]\n",
    "    elem2 = qmatrix[l, tp]\n",
    "    return T.asarray(np.array([[elem1, elem1],[elem1, elem2]]))\n"
   ]
  },
  {
   "cell_type": "code",
   "execution_count": 20,
   "metadata": {},
   "outputs": [
    {
     "output_type": "stream",
     "name": "stdout",
     "text": [
      "3 0 1\ndim_1_i 3 dim_2_i 0 1\ninner iteration -  3 0\ndim_1_i 2 dim_2_i 0 1\ninner iteration -  2 0\ninner iteration -  3 1\ndim_1_i 1 dim_2_i 0 1\ninner iteration -  1 0\ninner iteration -  2 1\ninner iteration -  3 2\ndim_1_i 0 dim_2_i 0 1\ninner iteration -  0 0\ninner iteration -  1 1\ninner iteration -  2 2\ninner iteration -  3 3\ndim_1_i 0 dim_2_i 1 0\ninner iteration -  0 1\ninner iteration -  1 2\ninner iteration -  2 3\ndim_1_i 0 dim_2_i 2 -1\ninner iteration -  0 2\ninner iteration -  1 3\ndim_1_i 0 dim_2_i 3 -2\ninner iteration -  0 3\n"
     ]
    }
   ],
   "source": [
    "switch_flag = 1\n",
    "dim_1_i = dim_1 = 3\n",
    "dim_2 = 3\n",
    "dim_2_i = 0\n",
    "dim_num = l1 + l2 + 1\n",
    "\n",
    "lambdamatrix = np.zeros([L,Ti, TiPrime],dtype = object)\n",
    "thetamatrix = np.zeros([L,Ti, TiPrime],dtype = object)\n",
    "\n",
    "print(dim_1_i, dim_2_i, switch_flag)\n",
    "for d in range(0,dim_num):\n",
    "    tiprime = dim_1_i\n",
    "    ti = dim_2_i\n",
    "\n",
    "    # print(\"dim_1_i\", dim_1_i, \"dim_2_i\", dim_2_i, switch_flag)\n",
    "    while ((tiprime <= dim_1) & (ti <= dim_2)):\n",
    "        # print(\"inner iteration - \", tiprime, ti) // DIM 1 IS T PRIME, DIM 2 IS T\n",
    "        xi = DATA[:, ti] # 1 is t\n",
    "        xpi = DATAPRIME[:, tiprime]\n",
    "        if ((ti > 0) & (tiprime > 0)):\n",
    "            S, D = VT(Kfunc(0, ti-1, tiprime-1))\n",
    "            lambdamatrix[0, ti, tiprime] = sw ** 2 * S + su * (xi*xpi[:, None]) + sb ** 2\n",
    "            thetamatrix[0, ti, tiprime] = lambdamatrix[0, ti, tiprime] + sw ** 2 * thetamatrix[0, ti - 1, tiprime - 1] * D\n",
    "        else:\n",
    "            thetamatrix[0,ti,tiprime] = lambdamatrix[0,ti,tiprime] = su ** 2 * (xi*xpi[:, None]) + sb\n",
    "\n",
    "        # for l in range(1, L):\n",
    "\n",
    "\n",
    "        tiprime+=1\n",
    "        ti+=1\n",
    "\n",
    "    if dim_1_i == 0:\n",
    "        switch_flag -= 1\n",
    "    else:\n",
    "        dim_1_i = dim_1_i - 1\n",
    "    if switch_flag <= 0:\n",
    "        dim_2_i = dim_2_i + 1\n",
    "\n",
    "    "
   ]
  },
  {
   "cell_type": "code",
   "execution_count": null,
   "metadata": {},
   "outputs": [],
   "source": []
  }
 ],
 "metadata": {
  "kernelspec": {
   "display_name": "RNTK-Venv",
   "language": "python",
   "name": "rntk-venv"
  },
  "language_info": {
   "codemirror_mode": {
    "name": "ipython",
    "version": 3
   },
   "file_extension": ".py",
   "mimetype": "text/x-python",
   "name": "python",
   "nbconvert_exporter": "python",
   "pygments_lexer": "ipython3",
   "version": "3.8.3"
  }
 },
 "nbformat": 4,
 "nbformat_minor": 5
}