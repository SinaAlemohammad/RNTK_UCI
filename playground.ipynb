{
 "metadata": {
  "language_info": {
   "codemirror_mode": {
    "name": "ipython",
    "version": 3
   },
   "file_extension": ".py",
   "mimetype": "text/x-python",
   "name": "python",
   "nbconvert_exporter": "python",
   "pygments_lexer": "ipython3",
   "version": "3.7.9"
  },
  "orig_nbformat": 4,
  "kernelspec": {
   "name": "rntkvenv",
   "display_name": "Python 3.7.9  ('RNTKVENV': venv)"
  }
 },
 "nbformat": 4,
 "nbformat_minor": 2,
 "cells": [
  {
   "cell_type": "code",
   "execution_count": 103,
   "metadata": {},
   "outputs": [],
   "source": [
    "import numpy as np\n",
    "import tools, RNTK_avg\n",
    "import jax\n",
    "import symjax\n",
    "import symjax.tensor as T"
   ]
  },
  {
   "cell_type": "code",
   "execution_count": 104,
   "metadata": {},
   "outputs": [],
   "source": [
    "Ti = 2\n",
    "TiPrime = 2"
   ]
  },
  {
   "cell_type": "code",
   "execution_count": 105,
   "metadata": {},
   "outputs": [],
   "source": [
    "dataset = \"trains\""
   ]
  },
  {
   "cell_type": "code",
   "execution_count": 106,
   "metadata": {},
   "outputs": [],
   "source": [
    "dic = {k:v for k,v in map(lambda x : x.split(), open(\"data\" + \"/\" + dataset + \"/\" + dataset + \".txt\", \"r\").readlines())}"
   ]
  },
  {
   "cell_type": "code",
   "execution_count": 107,
   "metadata": {},
   "outputs": [],
   "source": [
    "N = int(dic[\"n_patrons1=\"])\n",
    "length = int(dic[\"n_entradas=\"])"
   ]
  },
  {
   "cell_type": "code",
   "execution_count": 108,
   "metadata": {},
   "outputs": [],
   "source": [
    "class RNTKTEST():\n",
    "    def __init__(self):\n",
    "        self.sw = 1\n",
    "        self.su = 1\n",
    "        self.sb = 1\n",
    "        self.sh = 1\n",
    "        self.L = 1\n",
    "        self.Lf = 0\n",
    "        self.sv = 1\n",
    "        self.N = int(dic[\"n_patrons1=\"])\n",
    "        self.length = int(dic[\"n_entradas=\"])\n",
    "        \n",
    "    def VT(self, M):\n",
    "        A = T.diag(M)  # GP_old is in R^{n*n} having the output gp kernel\n",
    "        # of all pairs of data in the data set\n",
    "        B = A * A[:, None]\n",
    "        C = T.sqrt(B)  # in R^{n*n}\n",
    "        D = M / C  # this is lamblda in ReLU analyrucal formula\n",
    "        E = T.clip(D, -1, 1)  # clipping E between -1 and 1 for numerical stability.\n",
    "        F = (1 / (2 * np.pi)) * (E * (np.pi - T.arccos(E)) + T.sqrt(1 - E ** 2)) * C\n",
    "        G = (np.pi - T.arccos(E)) / (2 * np.pi)\n",
    "        return F,G"
   ]
  },
  {
   "cell_type": "code",
   "execution_count": 109,
   "metadata": {},
   "outputs": [],
   "source": [
    "rntk = RNTKTEST()"
   ]
  },
  {
   "cell_type": "code",
   "execution_count": 110,
   "metadata": {},
   "outputs": [],
   "source": [
    "DATA = T.Placeholder((N, length), 'float32')\n",
    "x = DATA[:,0]\n",
    "X = x*x[:, None]\n",
    "n = X.shape[0]"
   ]
  },
  {
   "cell_type": "code",
   "execution_count": 111,
   "metadata": {},
   "outputs": [],
   "source": [
    "RNTK,GP = RNTK_avg.RNTK.RNTK_first(rntk,DATA[:,0])"
   ]
  },
  {
   "cell_type": "code",
   "execution_count": 112,
   "metadata": {},
   "outputs": [],
   "source": [
    "l = 1"
   ]
  },
  {
   "source": [
    "## LAYER ZERO ATTEMPT\n"
   ],
   "cell_type": "markdown",
   "metadata": {}
  },
  {
   "cell_type": "code",
   "execution_count": 113,
   "metadata": {
    "tags": []
   },
   "outputs": [
    {
     "output_type": "stream",
     "name": "stdout",
     "text": [
      "1 0 1\n",
      "inner iteration -  1 0\n",
      "inner iteration -  0 0\n",
      "inner iteration -  1 1\n",
      "inner iteration -  0 1\n"
     ]
    }
   ],
   "source": [
    "switch_flag = 1\n",
    "dim_1_i = dim_1 = 1\n",
    "dim_2 = 1\n",
    "dim_2_i = 0\n",
    "dim_num = dim_1 + dim_2 + 1\n",
    "\n",
    "lambdamatrix = np.zeros([1, dim_1 + 1, dim_2 + 1],dtype = object)\n",
    "phimatrix = np.zeros([1, dim_1 + 1, dim_2 + 1],dtype = object)\n",
    "\n",
    "print(dim_1_i, dim_2_i, switch_flag)\n",
    "for d in range(0,dim_num):\n",
    "    tiprime = dim_1_i\n",
    "    ti = dim_2_i\n",
    "\n",
    "    while ((tiprime <= dim_1) & (ti <= dim_2)):\n",
    "        print(\"inner iteration - \", tiprime, ti) #// DIM 1 IS T PRIME, DIM 2 IS T\n",
    "        if ((ti > 0) & (tiprime > 0)):\n",
    "            S, D = rntk.VT(lambdamatrix[0, ti-1, tiprime-1])\n",
    "            lambdamatrix[0, ti, tiprime] = rntk.sw ** 2 * S + rntk.su ** 2 * X + rntk.sb ** 2\n",
    "            phimatrix[0, ti, tiprime] = lambdamatrix[0, ti, tiprime] + rntk.sw ** 2 * phimatrix[0, ti - 1, tiprime - 1] * D\n",
    "        else:\n",
    "            test = rntk.sh ** 2 * rntk.sw ** 2 * T.eye(n, n) + (rntk.su ** 2) * X + rntk.sb ** 2\n",
    "            # phimatrix[0,ti,tiprime] = lambdamatrix[0,ti,tiprime] = T.expand_dims(test, axis = 0) # line 2, alg 1\n",
    "            phimatrix[0,ti,tiprime] = lambdamatrix[0,ti,tiprime] = test # line 2, alg 1\n",
    "\n",
    "        tiprime+=1\n",
    "        ti+=1\n",
    "\n",
    "    if dim_1_i == 0:\n",
    "        switch_flag -= 1\n",
    "    else:\n",
    "        dim_1_i = dim_1_i - 1\n",
    "    if switch_flag <= 0:\n",
    "        dim_2_i = dim_2_i + 1"
   ]
  },
  {
   "source": [
    "## MISC LOOKING AT OBJECT FORMATS"
   ],
   "cell_type": "markdown",
   "metadata": {}
  },
  {
   "cell_type": "code",
   "execution_count": 114,
   "metadata": {},
   "outputs": [],
   "source": [
    "S_new,D_new = rntk.VT(gp_new[l-1])"
   ]
  },
  {
   "cell_type": "code",
   "execution_count": 115,
   "metadata": {},
   "outputs": [
    {
     "output_type": "execute_result",
     "data": {
      "text/plain": [
       "Op(name=multiply_137, fn=multiply, shape=(10, 10), dtype=float32, scope=/default)"
      ]
     },
     "metadata": {},
     "execution_count": 115
    }
   ],
   "source": [
    "S_new"
   ]
  },
  {
   "cell_type": "code",
   "execution_count": 116,
   "metadata": {},
   "outputs": [
    {
     "output_type": "execute_result",
     "data": {
      "text/plain": [
       "Op(name=true_divide_19, fn=true_divide, shape=(10, 10), dtype=float32, scope=/default)"
      ]
     },
     "metadata": {},
     "execution_count": 116
    }
   ],
   "source": [
    "D_new"
   ]
  },
  {
   "cell_type": "code",
   "execution_count": 117,
   "metadata": {},
   "outputs": [],
   "source": [
    "extra = rntk.sh ** 2 * rntk.sw ** 2 * T.eye(n, n) + rntk.su**2 * S_new + rntk.sb**2"
   ]
  },
  {
   "cell_type": "code",
   "execution_count": 118,
   "metadata": {},
   "outputs": [],
   "source": [
    "new = T.expand_dims(extra,axis = 0)"
   ]
  },
  {
   "cell_type": "code",
   "execution_count": 119,
   "metadata": {},
   "outputs": [
    {
     "output_type": "execute_result",
     "data": {
      "text/plain": [
       "Op(name=expand_dims_27, fn=expand_dims, shape=(1, 10, 10), dtype=float32, scope=/default)"
      ]
     },
     "metadata": {},
     "execution_count": 119
    }
   ],
   "source": [
    "new"
   ]
  },
  {
   "cell_type": "code",
   "execution_count": 120,
   "metadata": {},
   "outputs": [],
   "source": [
    "gp_new = T.concatenate([gp_new,new]) #line 4, alg 1"
   ]
  },
  {
   "cell_type": "code",
   "execution_count": 121,
   "metadata": {},
   "outputs": [
    {
     "output_type": "execute_result",
     "data": {
      "text/plain": [
       "Op(name=concatenate_13, fn=concatenate, shape=(3, 10, 10), dtype=float32, scope=/default)"
      ]
     },
     "metadata": {},
     "execution_count": 121
    }
   ],
   "source": [
    "gp_new"
   ]
  },
  {
   "source": [
    "## MIDDLE RNTK OBJECT TYPES"
   ],
   "cell_type": "markdown",
   "metadata": {}
  },
  {
   "source": [
    "T.transpose(DATA[:, 1:])"
   ],
   "cell_type": "code",
   "metadata": {},
   "execution_count": 122,
   "outputs": [
    {
     "output_type": "execute_result",
     "data": {
      "text/plain": [
       "Op(name=transpose_10, fn=transpose, shape=(28, 10), dtype=float32, scope=/default)"
      ]
     },
     "metadata": {},
     "execution_count": 122
    }
   ]
  },
  {
   "cell_type": "code",
   "execution_count": 123,
   "metadata": {},
   "outputs": [
    {
     "output_type": "execute_result",
     "data": {
      "text/plain": [
       "Op(name=stack_10, fn=stack, shape=(2, 2, 10, 10), dtype=float32, scope=/default)"
      ]
     },
     "metadata": {},
     "execution_count": 123
    }
   ],
   "source": [
    "T.stack([RNTK,GP])"
   ]
  },
  {
   "cell_type": "code",
   "execution_count": 124,
   "metadata": {},
   "outputs": [
    {
     "output_type": "stream",
     "name": "stdout",
     "text": [
      "a[0] Op(name=_rewriting_take_56, fn=_rewriting_take, shape=(2, 10, 10), dtype=float32, scope=/default)\na[1] Op(name=_rewriting_take_57, fn=_rewriting_take, shape=(2, 10, 10), dtype=float32, scope=/default)\nB Placeholder(name=_19, shape=(10,), dtype=float32, scope=/default)\n"
     ]
    }
   ],
   "source": [
    "r1, r2 = T.scan(lambda a,b:middletest(a,b),sequences=[ T.transpose(DATA[:, 1:]) ], init=T.stack([RNTK,GP]))"
   ]
  },
  {
   "cell_type": "code",
   "execution_count": 125,
   "metadata": {},
   "outputs": [],
   "source": [
    "def middletest(a,b):\n",
    "    # print(\"A\", a)\n",
    "    print(\"a[0]\", a[0])\n",
    "    print(\"a[1]\", a[1])\n",
    "    print(\"B\", b)\n",
    "    return a,b"
   ]
  },
  {
   "cell_type": "code",
   "execution_count": null,
   "metadata": {},
   "outputs": [],
   "source": []
  },
  {
   "cell_type": "code",
   "execution_count": null,
   "metadata": {},
   "outputs": [],
   "source": []
  },
  {
   "cell_type": "code",
   "execution_count": null,
   "metadata": {},
   "outputs": [],
   "source": []
  }
 ]
}