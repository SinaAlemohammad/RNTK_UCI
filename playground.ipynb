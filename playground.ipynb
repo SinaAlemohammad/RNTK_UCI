{
 "cells": [
  {
   "cell_type": "code",
   "execution_count": 1,
   "id": "innocent-costs",
   "metadata": {},
   "outputs": [],
   "source": [
    "import numpy as np\n",
    "import RNTK_NEW\n",
    "import jax\n",
    "import symjax\n",
    "import symjax.tensor as T\n",
    "import math"
   ]
  },
  {
   "cell_type": "code",
   "execution_count": 2,
   "id": "consecutive-scott",
   "metadata": {},
   "outputs": [],
   "source": [
    "L = 2\n",
    "Ti = 2\n",
    "TiPrime = 2\n",
    "qmatrix = np.zeros([L,Ti],dtype = object)\n",
    "DATA = T.Placeholder((Ti, 8), 'float32')\n",
    "X = DATA[:,0]\n",
    "tx = X*X[:, None]\n",
    "n = tx.shape[0]\n",
    "su = 1\n",
    "sb = 1\n",
    "sh = 1\n",
    "sq = 1\n",
    "sw = 1"
   ]
  },
  {
   "cell_type": "code",
   "execution_count": 3,
   "id": "dietary-walter",
   "metadata": {},
   "outputs": [],
   "source": [
    "def normv(x):\n",
    "    return T.sqrt(T.sum(T.power(x, 2)))\n",
    "def capQ(lq):\n",
    "    return T.full((2,2), lq)"
   ]
  },
  {
   "cell_type": "code",
   "execution_count": 4,
   "id": "portuguese-alcohol",
   "metadata": {
    "tags": []
   },
   "outputs": [],
   "source": [
    "def VTq(M):\n",
    "    A = T.diag(M)  # GP_old is in R^{n*n} having the output gp kernel\n",
    "    # of all pairs of data in the data set\n",
    "    B = A * A[:, None]\n",
    "    C = T.sqrt(B)  # in R^{n*n}\n",
    "    D = M / C  # this is lamblda in ReLU analyrucal formula\n",
    "    E = T.clip(D, -1, 1)  # clipping E between -1 and 1 for numerical stability.\n",
    "    F = (1 / (2 * np.pi)) * (E * (np.pi - T.arccos(E)) + T.sqrt(1 - E ** 2)) * C\n",
    "    G = (np.pi - T.arccos(E)) / (2 * np.pi)\n",
    "    return F,G"
   ]
  },
  {
   "cell_type": "code",
   "execution_count": 5,
   "id": "amino-infrared",
   "metadata": {
    "tags": []
   },
   "outputs": [
    {
     "output_type": "stream",
     "name": "stderr",
     "text": [
      "WARNING:absl:No GPU/TPU found, falling back to CPU. (Set TF_CPP_MIN_LOG_LEVEL=0 and rerun for more info.)\n",
      "0 0\n",
      "1 0\n",
      "0 1\n",
      "1 1\n"
     ]
    }
   ],
   "source": [
    "for t in range(0, Ti):\n",
    "    for l in range(0, L):\n",
    "        print(l, t)\n",
    "        if ((t == l) & (l == 0)):\n",
    "            #assuming ||x|| means the norm of that vector\n",
    "            qmatrix[l, t] = su**2 * normv(X[0])**2 + sb**2 + sh ** 2\n",
    "\n",
    "        if ((t == 0) & (l > t)):\n",
    "\n",
    "            S,D = VTq(capQ(qmatrix[l-1,t]))\n",
    "            qmatrix[l, t] = su**2 * S + sb**2\n",
    "\n",
    "        if ((t > l) & (l == 0)):\n",
    "            S,D = VTq(capQ(qmatrix[l,t-1]))\n",
    "            qmatrix[l, t] = sw**2 * S + su**2 * normv(X[t])**2 + sb**2\n",
    "\n",
    "        if ((t > l) & (l > 0)):\n",
    "            S_left, D_left = VTq(capQ(qmatrix[l,t-1]))\n",
    "            S_right, D_right = VTq(capQ(qmatrix[l-1,t]))\n",
    "            qmatrix[l, t] = sw**2 * S_left + su**2 * D_right + sb**2\n"
   ]
  },
  {
   "source": [],
   "cell_type": "markdown",
   "metadata": {}
  },
  {
   "cell_type": "code",
   "execution_count": 6,
   "metadata": {},
   "outputs": [],
   "source": [
    "#MAKE ALGORITHM 2"
   ]
  },
  {
   "cell_type": "code",
   "execution_count": 7,
   "metadata": {},
   "outputs": [],
   "source": [
    "# thetamatrix = np.zeros([Ti,TiPrime],dtype = object)\n",
    "# kmatrix = np.zeros([Ti,TiPrime],dtype = object)\n",
    "# for t in range(1, Ti):\n",
    "#     for tp in range(1, TiPrime):\n",
    "#         for l in range(1, L):\n",
    "#             if (t == 1) & (tp == 1) & (l == 1):"
   ]
  },
  {
   "cell_type": "code",
   "execution_count": 8,
   "metadata": {},
   "outputs": [
    {
     "output_type": "stream",
     "name": "stdout",
     "text": [
      "0 0\n0 1\n0 2\n0 3\n1 0\n1 1\n1 2\n1 3\n2 0\n2 1\n2 2\n2 3\n3 0\n3 1\n3 2\n3 3\n"
     ]
    }
   ],
   "source": [
    "len1 = 4\n",
    "len2 = 4\n",
    "for i in range(0,len1):\n",
    "    for j in range(0,len2):\n",
    "        print(i, j)"
   ]
  },
  {
   "cell_type": "code",
   "execution_count": 19,
   "metadata": {},
   "outputs": [
    {
     "output_type": "stream",
     "name": "stdout",
     "text": [
      "3 0 1\ndim_1_i 3 dim_2_i 0 1\ninner iteration -  3 0\ndim_1_i 2 dim_2_i 0 1\ninner iteration -  2 0\ninner iteration -  3 1\ndim_1_i 1 dim_2_i 0 1\ninner iteration -  1 0\ninner iteration -  2 1\ninner iteration -  3 2\ndim_1_i 0 dim_2_i 0 1\ninner iteration -  0 0\ninner iteration -  1 1\ninner iteration -  2 2\ninner iteration -  3 3\ndim_1_i 0 dim_2_i 1 0\ninner iteration -  0 1\ninner iteration -  1 2\ninner iteration -  2 3\ndim_1_i 0 dim_2_i 2 -1\ninner iteration -  0 2\ninner iteration -  1 3\ndim_1_i 0 dim_2_i 3 -2\ninner iteration -  0 3\n"
     ]
    }
   ],
   "source": [
    "switch_flag = 1\n",
    "dim_1_i = dim_1 = 3\n",
    "dim_2 = 3\n",
    "dim_2_i = 0\n",
    "dim_num = l1 + l2 + 1\n",
    "print(dim_1_i, dim_2_i, switch_flag)\n",
    "for d in range(0,dim_num):\n",
    "    dim_1_idx = dim_1_i\n",
    "    dim_2_idx = dim_2_i\n",
    "\n",
    "    print(\"dim_1_i\", dim_1_i, \"dim_2_i\", dim_2_i, switch_flag)\n",
    "    while ((dim_1_idx <= dim_1) & (dim_2_idx <= dim_2)):\n",
    "        print(\"inner iteration - \", dim_1_idx, dim_2_idx)\n",
    "        dim_1_idx+=1\n",
    "        dim_2_idx+=1\n",
    "\n",
    "    if dim_1_i == 0:\n",
    "        switch_flag -= 1\n",
    "    else:\n",
    "        dim_1_i = dim_1_i - 1\n",
    "    if switch_flag <= 0:\n",
    "        dim_2_i = dim_2_i + 1"
   ]
  },
  {
   "cell_type": "code",
   "execution_count": null,
   "metadata": {},
   "outputs": [],
   "source": []
  }
 ],
 "metadata": {
  "kernelspec": {
   "display_name": "RNTK-Venv",
   "language": "python",
   "name": "rntk-venv"
  },
  "language_info": {
   "codemirror_mode": {
    "name": "ipython",
    "version": 3
   },
   "file_extension": ".py",
   "mimetype": "text/x-python",
   "name": "python",
   "nbconvert_exporter": "python",
   "pygments_lexer": "ipython3",
   "version": "3.8.3"
  }
 },
 "nbformat": 4,
 "nbformat_minor": 5
}