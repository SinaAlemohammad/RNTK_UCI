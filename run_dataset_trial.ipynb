{
 "cells": [
  {
   "cell_type": "code",
   "execution_count": 1,
   "metadata": {},
   "outputs": [],
   "source": [
    "%load_ext line_profiler\n",
    "%load_ext autoreload\n",
    "%autoreload 2"
   ]
  },
  {
   "cell_type": "code",
   "execution_count": 2,
   "metadata": {},
   "outputs": [],
   "source": [
    "import numpy as np\n",
    "import old.tools, old.RNTK_avg\n",
    "import jax\n",
    "import symjax\n",
    "import symjax.tensor as T\n",
    "import copy\n",
    "from RNTK_NEW import RNTK\n",
    "import time"
   ]
  },
  {
   "cell_type": "code",
   "execution_count": 3,
   "metadata": {},
   "outputs": [],
   "source": [
    "dataset = \"trains\"\n",
    "# dataset = \"bank\""
   ]
  },
  {
   "cell_type": "code",
   "execution_count": 4,
   "metadata": {},
   "outputs": [],
   "source": [
    "dic = {k:v for k,v in map(lambda x : x.split(), open(\"data\" + \"/\" + dataset + \"/\" + dataset + \".txt\", \"r\").readlines())}"
   ]
  },
  {
   "cell_type": "code",
   "execution_count": 5,
   "metadata": {},
   "outputs": [],
   "source": [
    "# N = int(dic[\"n_patrons1=\"])\n",
    "# length = int(dic[\"n_entradas=\"])\n",
    "N = 1000\n",
    "length = 100"
   ]
  },
  {
   "cell_type": "code",
   "execution_count": 6,
   "metadata": {},
   "outputs": [
    {
     "output_type": "stream",
     "name": "stderr",
     "text": [
      "WARNING:absl:No GPU/TPU found, falling back to CPU. (Set TF_CPP_MIN_LOG_LEVEL=0 and rerun for more info.)\n"
     ]
    }
   ],
   "source": [
    "DATA = T.Placeholder((N, length), 'float32', name = \"X\")\n",
    "x = DATA[:,0]\n",
    "X = x*x[:, None]\n",
    "n = X.shape[0]"
   ]
  },
  {
   "cell_type": "code",
   "execution_count": 64,
   "metadata": {},
   "outputs": [],
   "source": [
    "from RNTK_onediag import RNTK as RNTKOD\n",
    "rntkod = RNTKOD(dic, X, n) #could be flipped"
   ]
  },
  {
   "cell_type": "code",
   "execution_count": 67,
   "metadata": {},
   "outputs": [],
   "source": []
  },
  {
   "cell_type": "code",
   "execution_count": 68,
   "metadata": {},
   "outputs": [],
   "source": [
    "lin_ema = rntkod.create_func_for_diag()"
   ]
  },
  {
   "cell_type": "code",
   "execution_count": 83,
   "metadata": {},
   "outputs": [
    {
     "output_type": "stream",
     "name": "stdout",
     "text": [
      "6.587394952774048\n",
      "0.8630499839782715\n",
      "0.00037407875061035156\n"
     ]
    }
   ],
   "source": [
    "%%timeit\n",
    "# start = time.time()\n",
    "lin_ema = rntkod.create_func_for_diag()\n",
    "# print(time.time() - start)\n",
    "# start = time.time()\n",
    "final_ema = rntkod.get_ends_of_diags(lin_ema)\n",
    "# print(time.time() - start)\n",
    "# start = time.time()\n",
    "rntk_func = symjax.function(DATA, outputs=final_ema)\n",
    "# print(time.time() - start)"
   ]
  },
  {
   "cell_type": "code",
   "execution_count": null,
   "metadata": {},
   "outputs": [],
   "source": []
  },
  {
   "cell_type": "code",
   "execution_count": null,
   "metadata": {},
   "outputs": [],
   "source": [
    "for t in range(0, Ti):\n",
    "    for l in range(0, L):\n",
    "        print(l, t)\n",
    "        if ((t == l) & (l == 0)):\n",
    "            #assuming ||x|| means the norm of that vector\n",
    "            qmatrix[l, t] = su**2 * normv(X[0])**2 + sb**2 + sh ** 2\n",
    "\n",
    "        if ((t == 0) & (l > t)):\n",
    "\n",
    "            S,D = VTq(capQ(qmatrix[l-1,t]))\n",
    "            qmatrix[l, t] = su**2 * S + sb**2\n",
    "\n",
    "        if ((t > l) & (l == 0)):\n",
    "            S,D = VTq(capQ(qmatrix[l,t-1]))\n",
    "            qmatrix[l, t] = sw**2 * S + su**2 * normv(X[t])**2 + sb**2\n",
    "\n",
    "        if ((t > l) & (l > 0)):\n",
    "            S_left, D_left = VTq(capQ(qmatrix[l,t-1]))\n",
    "            S_right, D_right = VTq(capQ(qmatrix[l-1,t]))\n",
    "            qmatrix[l, t] = sw**2 * S_left + su**2 * D_right + sb**2\n",
    "\n",
    "        print(qmatrix[l, t])\n"
   ]
  },
  {
   "cell_type": "code",
   "execution_count": null,
   "metadata": {},
   "outputs": [],
   "source": []
  },
  {
   "cell_type": "code",
   "execution_count": 9,
   "metadata": {},
   "outputs": [],
   "source": [
    "fake_data = np.zeros((N,length))"
   ]
  },
  {
   "cell_type": "code",
   "execution_count": 11,
   "metadata": {},
   "outputs": [
    {
     "output_type": "stream",
     "name": "stdout",
     "text": [
      "0.05171513557434082\n"
     ]
    }
   ],
   "source": [
    "start = time.time()\n",
    "result = rntk_func(fake_data)\n",
    "gp_kernel = result[0]\n",
    "rntk_kernel = result[1]\n",
    "print(time.time() - start)"
   ]
  },
  {
   "cell_type": "code",
   "execution_count": 12,
   "metadata": {},
   "outputs": [
    {
     "output_type": "execute_result",
     "data": {
      "text/plain": [
       "(3, 3, 1000, 1000)"
      ]
     },
     "metadata": {},
     "execution_count": 12
    }
   ],
   "source": [
    "gp_kernel.shape"
   ]
  },
  {
   "cell_type": "code",
   "execution_count": null,
   "metadata": {},
   "outputs": [],
   "source": []
  }
 ],
 "metadata": {
  "interpreter": {
   "hash": "d26fdf873f014723235340e32a6964eb154e0cf3c43acdd9f6a19e9d9e78844e"
  },
  "kernelspec": {
   "name": "python3",
   "display_name": "Python 3.8.3  ('RNTKVENV': venv)"
  },
  "language_info": {
   "codemirror_mode": {
    "name": "ipython",
    "version": 3
   },
   "file_extension": ".py",
   "mimetype": "text/x-python",
   "name": "python",
   "nbconvert_exporter": "python",
   "pygments_lexer": "ipython3",
   "version": "3.8.3"
  },
  "orig_nbformat": 4
 },
 "nbformat": 4,
 "nbformat_minor": 2
}