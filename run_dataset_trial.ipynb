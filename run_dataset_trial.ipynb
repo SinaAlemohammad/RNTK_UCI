{
 "cells": [
  {
   "cell_type": "code",
   "execution_count": 1,
   "metadata": {},
   "outputs": [],
   "source": [
    "%load_ext autoreload\n",
    "%autoreload 2"
   ]
  },
  {
   "cell_type": "code",
   "execution_count": 2,
   "metadata": {},
   "outputs": [],
   "source": [
    "import numpy as np\n",
    "import old.tools, old.RNTK_avg\n",
    "import jax\n",
    "import symjax\n",
    "import symjax.tensor as T\n",
    "import copy\n",
    "from RNTK_NEW import RNTK"
   ]
  },
  {
   "cell_type": "code",
   "execution_count": 3,
   "metadata": {},
   "outputs": [],
   "source": [
    "dataset = \"trains\"\n",
    "# dataset = \"bank\""
   ]
  },
  {
   "cell_type": "code",
   "execution_count": 4,
   "metadata": {},
   "outputs": [],
   "source": [
    "dic = {k:v for k,v in map(lambda x : x.split(), open(\"data\" + \"/\" + dataset + \"/\" + dataset + \".txt\", \"r\").readlines())}"
   ]
  },
  {
   "cell_type": "code",
   "execution_count": 35,
   "metadata": {},
   "outputs": [],
   "source": [
    "# N = int(dic[\"n_patrons1=\"])\n",
    "# length = int(dic[\"n_entradas=\"])\n",
    "N = 1000\n",
    "length = 100"
   ]
  },
  {
   "cell_type": "code",
   "execution_count": 36,
   "metadata": {},
   "outputs": [],
   "source": [
    "DATA = T.Placeholder((N, length), 'float32', name = \"X\")\n",
    "x = DATA[:,0]\n",
    "X = x*x[:, None]\n",
    "n = X.shape[0]"
   ]
  },
  {
   "cell_type": "code",
   "execution_count": 37,
   "metadata": {},
   "outputs": [],
   "source": [
    "from RNTK_onediag import RNTK as RNTKOD\n",
    "rntkod = RNTKOD(dic, 2, 2, X, n) #could be flipped"
   ]
  },
  {
   "cell_type": "code",
   "execution_count": 38,
   "metadata": {},
   "outputs": [],
   "source": [
    "lin_ema = rntkod.create_func_for_diag(fbool = True)"
   ]
  },
  {
   "cell_type": "code",
   "execution_count": 39,
   "metadata": {},
   "outputs": [],
   "source": [
    "final_ema = rntkod.no_bc_arrays_to_diag(lin_ema)"
   ]
  },
  {
   "cell_type": "code",
   "execution_count": 40,
   "metadata": {},
   "outputs": [
    {
     "output_type": "execute_result",
     "data": {
      "text/plain": [
       "(Op(name=concatenate_60, fn=concatenate, shape=(3, 3, 1000, 1000), dtype=float32, scope=/default),\n",
       " Op(name=concatenate_61, fn=concatenate, shape=(3, 3, 1000, 1000), dtype=float32, scope=/default))"
      ]
     },
     "metadata": {},
     "execution_count": 40
    }
   ],
   "source": [
    "final_ema"
   ]
  },
  {
   "cell_type": "code",
   "execution_count": 41,
   "metadata": {},
   "outputs": [],
   "source": [
    "rntk_func = symjax.function(DATA, outputs=final_ema) #works fine for shizzle"
   ]
  },
  {
   "cell_type": "code",
   "execution_count": 44,
   "metadata": {},
   "outputs": [],
   "source": [
    "fake_data = np.zeros((N,length))"
   ]
  },
  {
   "cell_type": "code",
   "execution_count": 45,
   "metadata": {},
   "outputs": [],
   "source": [
    "gp_kernel = rntk_func(fake_data)[0]\n",
    "rntk_kernel = rntk_func(fake_data)[1]"
   ]
  },
  {
   "cell_type": "code",
   "execution_count": 46,
   "metadata": {},
   "outputs": [
    {
     "output_type": "execute_result",
     "data": {
      "text/plain": [
       "(3, 3, 1000, 1000)"
      ]
     },
     "metadata": {},
     "execution_count": 46
    }
   ],
   "source": [
    "gp_kernel.shape"
   ]
  },
  {
   "cell_type": "code",
   "execution_count": null,
   "metadata": {},
   "outputs": [],
   "source": []
  }
 ],
 "metadata": {
  "interpreter": {
   "hash": "d26fdf873f014723235340e32a6964eb154e0cf3c43acdd9f6a19e9d9e78844e"
  },
  "kernelspec": {
   "name": "python3",
   "display_name": "Python 3.8.3  ('RNTKVENV': venv)"
  },
  "language_info": {
   "codemirror_mode": {
    "name": "ipython",
    "version": 3
   },
   "file_extension": ".py",
   "mimetype": "text/x-python",
   "name": "python",
   "nbconvert_exporter": "python",
   "pygments_lexer": "ipython3",
   "version": "3.8.3"
  },
  "orig_nbformat": 4
 },
 "nbformat": 4,
 "nbformat_minor": 2
}