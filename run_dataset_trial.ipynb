{
 "cells": [
  {
   "cell_type": "code",
   "execution_count": 1,
   "source": [
    "%load_ext line_profiler\n",
    "%load_ext autoreload\n",
    "%autoreload 2"
   ],
   "outputs": [],
   "metadata": {}
  },
  {
   "cell_type": "code",
   "execution_count": 2,
   "source": [
    "import numpy as np\n",
    "import jax.numpy as jnp\n",
    "import old.tools, old.RNTK_avg\n",
    "import jax\n",
    "import symjax\n",
    "import symjax.tensor as T\n",
    "import copy\n",
    "import time\n",
    "\n",
    "from RNTK_onediag_dual import RNTK as RNTKOD_dual\n",
    "from RNTK_onediag_dual import create_func as create_func_dual"
   ],
   "outputs": [],
   "metadata": {}
  },
  {
   "cell_type": "code",
   "execution_count": 3,
   "source": [
    "# dataset = \"trains\"\n",
    "# dataset = \"bank\""
   ],
   "outputs": [],
   "metadata": {}
  },
  {
   "cell_type": "code",
   "execution_count": 4,
   "source": [
    "# dic = {k:v for k,v in map(lambda x : x.split(), open(\"data\" + \"/\" + dataset + \"/\" + dataset + \".txt\", \"r\").readlines())}\n",
    "dic = {}"
   ],
   "outputs": [],
   "metadata": {}
  },
  {
   "cell_type": "code",
   "execution_count": 5,
   "source": [
    "def run_and_test(dic):\n",
    "    diag_func, rntk_dual = create_func_dual(dic, True)\n",
    "    fake_data_ti = np.zeros((dic[\"n_patrons1=\"],dic[\"n_entradasTi=\"]))\n",
    "    fake_data_tiprime = np.zeros((dic[\"n_patrons1=\"],dic[\"n_entradasTiP=\"]))\n",
    "    start = time.time()\n",
    "    result = diag_func(fake_data_ti, fake_data_tiprime)\n",
    "    # # gp_kernel = result[0]\n",
    "    # # rntk_kernel = result[1]\n",
    "    print(\"time to compute \", time.time() - start)\n",
    "    return result"
   ],
   "outputs": [],
   "metadata": {}
  },
  {
   "cell_type": "code",
   "execution_count": 6,
   "source": [
    "import json"
   ],
   "outputs": [],
   "metadata": {}
  },
  {
   "cell_type": "code",
   "execution_count": 12,
   "source": [
    "dic[\"n_patrons1=\"] = 10#00 #// N (what affect symjax time)\n",
    "dic[\"n_entradasTiP=\"] = 99 #99 works, 100 does not\n",
    "dic[\"n_entradasTi=\"] = 10"
   ],
   "outputs": [],
   "metadata": {}
  },
  {
   "cell_type": "code",
   "execution_count": 13,
   "source": [
    "run_and_test(dic)"
   ],
   "outputs": [
    {
     "output_type": "stream",
     "name": "stdout",
     "text": [
      "time to create symjax 0.9386370182037354\n",
      "time to compute  1.4171268939971924\n"
     ]
    },
    {
     "output_type": "execute_result",
     "data": {
      "text/plain": [
       "array([[[4.741270e+19, 4.741270e+19, 4.741270e+19, 4.741270e+19,\n",
       "         4.741270e+19, 4.741270e+19, 4.741270e+19, 4.741270e+19,\n",
       "         4.741270e+19, 4.741270e+19],\n",
       "        [4.741270e+19, 4.741270e+19, 4.741270e+19, 4.741270e+19,\n",
       "         4.741270e+19, 4.741270e+19, 4.741270e+19, 4.741270e+19,\n",
       "         4.741270e+19, 4.741270e+19],\n",
       "        [4.741270e+19, 4.741270e+19, 4.741270e+19, 4.741270e+19,\n",
       "         4.741270e+19, 4.741270e+19, 4.741270e+19, 4.741270e+19,\n",
       "         4.741270e+19, 4.741270e+19],\n",
       "        [4.741270e+19, 4.741270e+19, 4.741270e+19, 4.741270e+19,\n",
       "         4.741270e+19, 4.741270e+19, 4.741270e+19, 4.741270e+19,\n",
       "         4.741270e+19, 4.741270e+19],\n",
       "        [4.741270e+19, 4.741270e+19, 4.741270e+19, 4.741270e+19,\n",
       "         4.741270e+19, 4.741270e+19, 4.741270e+19, 4.741270e+19,\n",
       "         4.741270e+19, 4.741270e+19],\n",
       "        [4.741270e+19, 4.741270e+19, 4.741270e+19, 4.741270e+19,\n",
       "         4.741270e+19, 4.741270e+19, 4.741270e+19, 4.741270e+19,\n",
       "         4.741270e+19, 4.741270e+19],\n",
       "        [4.741270e+19, 4.741270e+19, 4.741270e+19, 4.741270e+19,\n",
       "         4.741270e+19, 4.741270e+19, 4.741270e+19, 4.741270e+19,\n",
       "         4.741270e+19, 4.741270e+19],\n",
       "        [4.741270e+19, 4.741270e+19, 4.741270e+19, 4.741270e+19,\n",
       "         4.741270e+19, 4.741270e+19, 4.741270e+19, 4.741270e+19,\n",
       "         4.741270e+19, 4.741270e+19],\n",
       "        [4.741270e+19, 4.741270e+19, 4.741270e+19, 4.741270e+19,\n",
       "         4.741270e+19, 4.741270e+19, 4.741270e+19, 4.741270e+19,\n",
       "         4.741270e+19, 4.741270e+19],\n",
       "        [4.741270e+19, 4.741270e+19, 4.741270e+19, 4.741270e+19,\n",
       "         4.741270e+19, 4.741270e+19, 4.741270e+19, 4.741270e+19,\n",
       "         4.741270e+19, 4.741270e+19]],\n",
       "\n",
       "       [[6.474514e+19, 6.474514e+19, 6.474514e+19, 6.474514e+19,\n",
       "         6.474514e+19, 6.474514e+19, 6.474514e+19, 6.474514e+19,\n",
       "         6.474514e+19, 6.474514e+19],\n",
       "        [6.474514e+19, 6.474514e+19, 6.474514e+19, 6.474514e+19,\n",
       "         6.474514e+19, 6.474514e+19, 6.474514e+19, 6.474514e+19,\n",
       "         6.474514e+19, 6.474514e+19],\n",
       "        [6.474514e+19, 6.474514e+19, 6.474514e+19, 6.474514e+19,\n",
       "         6.474514e+19, 6.474514e+19, 6.474514e+19, 6.474514e+19,\n",
       "         6.474514e+19, 6.474514e+19],\n",
       "        [6.474514e+19, 6.474514e+19, 6.474514e+19, 6.474514e+19,\n",
       "         6.474514e+19, 6.474514e+19, 6.474514e+19, 6.474514e+19,\n",
       "         6.474514e+19, 6.474514e+19],\n",
       "        [6.474514e+19, 6.474514e+19, 6.474514e+19, 6.474514e+19,\n",
       "         6.474514e+19, 6.474514e+19, 6.474514e+19, 6.474514e+19,\n",
       "         6.474514e+19, 6.474514e+19],\n",
       "        [6.474514e+19, 6.474514e+19, 6.474514e+19, 6.474514e+19,\n",
       "         6.474514e+19, 6.474514e+19, 6.474514e+19, 6.474514e+19,\n",
       "         6.474514e+19, 6.474514e+19],\n",
       "        [6.474514e+19, 6.474514e+19, 6.474514e+19, 6.474514e+19,\n",
       "         6.474514e+19, 6.474514e+19, 6.474514e+19, 6.474514e+19,\n",
       "         6.474514e+19, 6.474514e+19],\n",
       "        [6.474514e+19, 6.474514e+19, 6.474514e+19, 6.474514e+19,\n",
       "         6.474514e+19, 6.474514e+19, 6.474514e+19, 6.474514e+19,\n",
       "         6.474514e+19, 6.474514e+19],\n",
       "        [6.474514e+19, 6.474514e+19, 6.474514e+19, 6.474514e+19,\n",
       "         6.474514e+19, 6.474514e+19, 6.474514e+19, 6.474514e+19,\n",
       "         6.474514e+19, 6.474514e+19],\n",
       "        [6.474514e+19, 6.474514e+19, 6.474514e+19, 6.474514e+19,\n",
       "         6.474514e+19, 6.474514e+19, 6.474514e+19, 6.474514e+19,\n",
       "         6.474514e+19, 6.474514e+19]]], dtype=float32)"
      ]
     },
     "metadata": {},
     "execution_count": 13
    }
   ],
   "metadata": {}
  },
  {
   "cell_type": "markdown",
   "source": [
    "lets execute the symjax"
   ],
   "metadata": {}
  },
  {
   "cell_type": "code",
   "execution_count": 9,
   "source": [
    "# fake_data_ti = np.zeros((dic[\"n_patrons1=\"],dic[\"n_entradasTi=\"]))\n",
    "# fake_data_tiprime = np.zeros((dic[\"n_patrons1=\"],dic[\"n_entradasTiP=\"]))"
   ],
   "outputs": [],
   "metadata": {}
  },
  {
   "cell_type": "code",
   "execution_count": 10,
   "source": [
    "# start = time.time()\n",
    "# result = diag_func(fake_data_ti, fake_data_tiprime)\n",
    "# # # gp_kernel = result[0]\n",
    "# # # rntk_kernel = result[1]\n",
    "# print(time.time() - start)\n",
    "# result"
   ],
   "outputs": [],
   "metadata": {}
  },
  {
   "cell_type": "code",
   "execution_count": 11,
   "source": [
    "# %%timeit\n",
    "# diag_func(fake_data)"
   ],
   "outputs": [],
   "metadata": {}
  },
  {
   "cell_type": "code",
   "execution_count": null,
   "source": [],
   "outputs": [],
   "metadata": {}
  }
 ],
 "metadata": {
  "interpreter": {
   "hash": "e2c2581283e3acdad48e524919070c9373810eead79ff4110efd1a680e1ab116"
  },
  "kernelspec": {
   "name": "python3",
   "display_name": "Python 3.8.1 64-bit ('RNTKVENV3.8': venv)"
  },
  "language_info": {
   "codemirror_mode": {
    "name": "ipython",
    "version": 3
   },
   "file_extension": ".py",
   "mimetype": "text/x-python",
   "name": "python",
   "nbconvert_exporter": "python",
   "pygments_lexer": "ipython3",
   "version": "3.8.1"
  }
 },
 "nbformat": 4,
 "nbformat_minor": 2
}