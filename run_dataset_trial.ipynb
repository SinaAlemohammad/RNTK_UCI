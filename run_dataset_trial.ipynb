{
 "cells": [
  {
   "cell_type": "code",
   "execution_count": 1,
   "metadata": {},
   "outputs": [],
   "source": [
    "%load_ext line_profiler\n",
    "%load_ext autoreload\n",
    "%autoreload 2"
   ]
  },
  {
   "cell_type": "code",
   "execution_count": 2,
   "metadata": {},
   "outputs": [],
   "source": [
    "import numpy as np\n",
    "import jax.numpy as jnp\n",
    "import old.tools, old.RNTK_avg\n",
    "import jax\n",
    "import symjax\n",
    "import symjax.tensor as T\n",
    "import copy\n",
    "import time\n",
    "\n",
    "from RNTK_onediag_dual import RNTK as RNTKOD_dual\n",
    "from RNTK_onediag_dual import create_func as create_func_dual"
   ]
  },
  {
   "cell_type": "code",
   "execution_count": 3,
   "metadata": {},
   "outputs": [],
   "source": [
    "# dataset = \"trains\"\n",
    "# dataset = \"bank\""
   ]
  },
  {
   "cell_type": "code",
   "execution_count": 7,
   "metadata": {},
   "outputs": [],
   "source": [
    "# dic = {k:v for k,v in map(lambda x : x.split(), open(\"data\" + \"/\" + dataset + \"/\" + dataset + \".txt\", \"r\").readlines())}\n",
    "dic = {}"
   ]
  },
  {
   "cell_type": "code",
   "execution_count": 8,
   "metadata": {},
   "outputs": [],
   "source": [
    "dic[\"n_patrons1=\"] = 1000#00 #// N (what affect symjax time)\n",
    "dic[\"n_entradasTiP=\"] = 120#00 #// TiPrime length\n",
    "dic[\"n_entradasTi=\"] = 100#00 #// Ti length (multiplier on symjax time)\n",
    "#UCR dataset of about this size\n"
   ]
  },
  {
   "cell_type": "code",
   "execution_count": 15,
   "metadata": {},
   "outputs": [
    {
     "output_type": "stream",
     "name": "stdout",
     "text": [
      "init Op(name=add_68, fn=add, shape=(1000,), dtype=float32, scope=/default)\n",
      "newq Op(name=add_70, fn=add, shape=(1000,), dtype=float32, scope=/default)\n",
      "init Op(name=add_72, fn=add, shape=(1000,), dtype=float32, scope=/default)\n",
      "newq Op(name=add_74, fn=add, shape=(1000,), dtype=float32, scope=/default)\n",
      "time to create symjax 1.5067667961120605\n"
     ]
    }
   ],
   "source": [
    "diag_func, rntk_dual = create_func_dual(dic, True)"
   ]
  },
  {
   "source": [
    "lets execute the symjax"
   ],
   "cell_type": "markdown",
   "metadata": {}
  },
  {
   "cell_type": "code",
   "execution_count": 7,
   "metadata": {},
   "outputs": [],
   "source": [
    "fake_data_ti = np.zeros((dic[\"n_patrons1=\"],dic[\"n_entradasTi=\"]))\n",
    "fake_data_tiprime = np.zeros((dic[\"n_patrons1=\"],dic[\"n_entradasTiP=\"]))"
   ]
  },
  {
   "cell_type": "code",
   "execution_count": 8,
   "metadata": {},
   "outputs": [
    {
     "output_type": "stream",
     "name": "stdout",
     "text": [
      "Op(name=_rewriting_take_63, fn=_rewriting_take, shape=(), dtype=float32, scope=/default)\n",
      "Op(name=_rewriting_take_66, fn=_rewriting_take, shape=(), dtype=float32, scope=/default)\n",
      "3.9718499183654785\n"
     ]
    },
    {
     "output_type": "execute_result",
     "data": {
      "text/plain": [
       "array([[[138710.03, 138709.39, 138709.39, ..., 138709.39, 138709.39,\n",
       "         138709.39],\n",
       "        [138709.39, 138710.03, 138709.39, ..., 138709.39, 138709.39,\n",
       "         138709.39],\n",
       "        [138709.39, 138709.39, 138710.03, ..., 138709.39, 138709.39,\n",
       "         138709.39],\n",
       "        ...,\n",
       "        [138709.39, 138709.39, 138709.39, ..., 138710.03, 138709.39,\n",
       "         138709.39],\n",
       "        [138709.39, 138709.39, 138709.39, ..., 138709.39, 138710.03,\n",
       "         138709.39],\n",
       "        [138709.39, 138709.39, 138709.39, ..., 138709.39, 138709.39,\n",
       "         138710.03]],\n",
       "\n",
       "       [[199367.52, 199366.03, 199366.03, ..., 199366.03, 199366.03,\n",
       "         199366.03],\n",
       "        [199366.03, 199367.52, 199366.03, ..., 199366.03, 199366.03,\n",
       "         199366.03],\n",
       "        [199366.03, 199366.03, 199367.52, ..., 199366.03, 199366.03,\n",
       "         199366.03],\n",
       "        ...,\n",
       "        [199366.03, 199366.03, 199366.03, ..., 199367.52, 199366.03,\n",
       "         199366.03],\n",
       "        [199366.03, 199366.03, 199366.03, ..., 199366.03, 199367.52,\n",
       "         199366.03],\n",
       "        [199366.03, 199366.03, 199366.03, ..., 199366.03, 199366.03,\n",
       "         199367.52]]], dtype=float32)"
      ]
     },
     "metadata": {},
     "execution_count": 8
    }
   ],
   "source": [
    "start = time.time()\n",
    "result = diag_func(fake_data_ti, fake_data_tiprime)\n",
    "# # gp_kernel = result[0]\n",
    "# # rntk_kernel = result[1]\n",
    "print(time.time() - start)\n",
    "result"
   ]
  },
  {
   "cell_type": "code",
   "execution_count": 9,
   "metadata": {},
   "outputs": [],
   "source": [
    "# %%timeit\n",
    "# diag_func(fake_data)"
   ]
  },
  {
   "cell_type": "code",
   "execution_count": 15,
   "metadata": {},
   "outputs": [],
   "source": []
  }
 ],
 "metadata": {
  "interpreter": {
   "hash": "d26fdf873f014723235340e32a6964eb154e0cf3c43acdd9f6a19e9d9e78844e"
  },
  "kernelspec": {
   "name": "python3",
   "display_name": "Python 3.8.3 64-bit ('RNTKVENV': venv)"
  },
  "language_info": {
   "codemirror_mode": {
    "name": "ipython",
    "version": 3
   },
   "file_extension": ".py",
   "mimetype": "text/x-python",
   "name": "python",
   "nbconvert_exporter": "python",
   "pygments_lexer": "ipython3",
   "version": "3.8.3"
  },
  "orig_nbformat": 4
 },
 "nbformat": 4,
 "nbformat_minor": 2
}