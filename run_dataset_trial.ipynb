{
 "cells": [
  {
   "cell_type": "code",
   "execution_count": 1,
   "metadata": {},
   "outputs": [],
   "source": [
    "%load_ext autoreload\n",
    "%autoreload 2"
   ]
  },
  {
   "cell_type": "code",
   "execution_count": 3,
   "metadata": {},
   "outputs": [],
   "source": [
    "import numpy as np\n",
    "import old.tools, old.RNTK_avg\n",
    "import jax\n",
    "import symjax\n",
    "import symjax.tensor as T\n",
    "import copy\n",
    "from RNTK_NEW import RNTK"
   ]
  },
  {
   "cell_type": "code",
   "execution_count": 13,
   "metadata": {},
   "outputs": [],
   "source": [
    "# dataset = \"trains\"\n",
    "dataset = \"bank\""
   ]
  },
  {
   "cell_type": "code",
   "execution_count": 14,
   "metadata": {},
   "outputs": [],
   "source": [
    "dic = {k:v for k,v in map(lambda x : x.split(), open(\"data\" + \"/\" + dataset + \"/\" + dataset + \".txt\", \"r\").readlines())}"
   ]
  },
  {
   "cell_type": "code",
   "execution_count": 15,
   "metadata": {},
   "outputs": [],
   "source": [
    "N = int(dic[\"n_patrons1=\"])\n",
    "length = int(dic[\"n_entradas=\"])"
   ]
  },
  {
   "cell_type": "code",
   "execution_count": 8,
   "metadata": {},
   "outputs": [],
   "source": [
    "DATA = T.Placeholder((N, length), 'float32', name = \"X\")\n",
    "x = DATA[:,0]\n",
    "X = x*x[:, None]\n",
    "n = X.shape[0]"
   ]
  },
  {
   "cell_type": "code",
   "execution_count": 10,
   "metadata": {},
   "outputs": [],
   "source": [
    "from RNTK_onediag import RNTK as RNTKOD\n",
    "rntkod = RNTKOD(dic, 2, 2, X, n) #could be flipped"
   ]
  },
  {
   "cell_type": "code",
   "execution_count": 11,
   "metadata": {},
   "outputs": [
    {
     "name": "stderr",
     "output_type": "stream",
     "text": [
      "WARNING:absl:No GPU/TPU found, falling back to CPU. (Set TF_CPP_MIN_LOG_LEVEL=0 and rerun for more info.)\n"
     ]
    }
   ],
   "source": [
    "final_ema = rntkod.create_func_for_diag()"
   ]
  },
  {
   "cell_type": "code",
   "execution_count": 12,
   "metadata": {},
   "outputs": [
    {
     "data": {
      "text/plain": [
       "(array([[Op(name=_rewriting_take_9, fn=_rewriting_take, shape=(10, 10), dtype=float32, scope=/default),\n",
       "         Op(name=_rewriting_take_11, fn=_rewriting_take, shape=(10, 10), dtype=float32, scope=/default),\n",
       "         Op(name=_rewriting_take_13, fn=_rewriting_take, shape=(10, 10), dtype=float32, scope=/default)],\n",
       "        [Op(name=_rewriting_take_15, fn=_rewriting_take, shape=(10, 10), dtype=float32, scope=/default),\n",
       "         Op(name=_rewriting_take_17, fn=_rewriting_take, shape=(10, 10), dtype=float32, scope=/default),\n",
       "         Op(name=_rewriting_take_19, fn=_rewriting_take, shape=(10, 10), dtype=float32, scope=/default)],\n",
       "        [Op(name=_rewriting_take_21, fn=_rewriting_take, shape=(10, 10), dtype=float32, scope=/default),\n",
       "         Op(name=_rewriting_take_23, fn=_rewriting_take, shape=(10, 10), dtype=float32, scope=/default),\n",
       "         Op(name=_rewriting_take_25, fn=_rewriting_take, shape=(10, 10), dtype=float32, scope=/default)]],\n",
       "       dtype=object),\n",
       " array([[Op(name=_rewriting_take_10, fn=_rewriting_take, shape=(10, 10), dtype=float32, scope=/default),\n",
       "         Op(name=_rewriting_take_12, fn=_rewriting_take, shape=(10, 10), dtype=float32, scope=/default),\n",
       "         Op(name=_rewriting_take_14, fn=_rewriting_take, shape=(10, 10), dtype=float32, scope=/default)],\n",
       "        [Op(name=_rewriting_take_16, fn=_rewriting_take, shape=(10, 10), dtype=float32, scope=/default),\n",
       "         Op(name=_rewriting_take_18, fn=_rewriting_take, shape=(10, 10), dtype=float32, scope=/default),\n",
       "         Op(name=_rewriting_take_20, fn=_rewriting_take, shape=(10, 10), dtype=float32, scope=/default)],\n",
       "        [Op(name=_rewriting_take_22, fn=_rewriting_take, shape=(10, 10), dtype=float32, scope=/default),\n",
       "         Op(name=_rewriting_take_24, fn=_rewriting_take, shape=(10, 10), dtype=float32, scope=/default),\n",
       "         Op(name=_rewriting_take_26, fn=_rewriting_take, shape=(10, 10), dtype=float32, scope=/default)]],\n",
       "       dtype=object))"
      ]
     },
     "execution_count": 12,
     "metadata": {},
     "output_type": "execute_result"
    }
   ],
   "source": [
    "rntkod.no_bc_arrays_to_diag(final_ema)"
   ]
  },
  {
   "cell_type": "code",
   "execution_count": null,
   "metadata": {},
   "outputs": [],
   "source": []
  }
 ],
 "metadata": {
  "interpreter": {
   "hash": "75ea476c9aa0a226cd89b4490bc52fe58252f10ababefc8536aec1f153efc68d"
  },
  "kernelspec": {
   "display_name": "Python 3.7.9 64-bit ('RNTKVENV': venv)",
   "name": "python3"
  },
  "language_info": {
   "codemirror_mode": {
    "name": "ipython",
    "version": 3
   },
   "file_extension": ".py",
   "mimetype": "text/x-python",
   "name": "python",
   "nbconvert_exporter": "python",
   "pygments_lexer": "ipython3",
   "version": "3.7.9"
  },
  "orig_nbformat": 4
 },
 "nbformat": 4,
 "nbformat_minor": 2
}