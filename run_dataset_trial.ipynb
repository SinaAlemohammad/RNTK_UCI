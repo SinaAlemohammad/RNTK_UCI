{
 "cells": [
  {
   "cell_type": "code",
   "execution_count": 1,
   "source": [
    "%load_ext line_profiler\n",
    "%load_ext autoreload\n",
    "%autoreload 2"
   ],
   "outputs": [],
   "metadata": {}
  },
  {
   "cell_type": "code",
   "execution_count": 2,
   "source": [
    "import numpy as np\n",
    "import jax.numpy as jnp\n",
    "import jax\n",
    "import symjax\n",
    "import symjax.tensor as T\n",
    "import copy\n",
    "import time\n",
    "import json\n",
    "# RNTK_onediag_stripped\n",
    "# RNTK_onediag_dual\n",
    "from RNTK_onediag_dual import RNTK as RNTKOD_dual\n",
    "from RNTK_onediag_dual import create_func as create_func_dual\n",
    "from RNTK_onediag_stripped import RNTK as RNTKOD_stripped\n",
    "from RNTK_onediag_stripped import create_func as create_func_stripped"
   ],
   "outputs": [],
   "metadata": {}
  },
  {
   "cell_type": "code",
   "execution_count": 3,
   "source": [
    "# dataset = \"trains\"\n",
    "# dataset = \"bank\""
   ],
   "outputs": [],
   "metadata": {}
  },
  {
   "cell_type": "code",
   "execution_count": 4,
   "source": [
    "# dic = {k:v for k,v in map(lambda x : x.split(), open(\"data\" + \"/\" + dataset + \"/\" + dataset + \".txt\", \"r\").readlines())}"
   ],
   "outputs": [],
   "metadata": {}
  },
  {
   "cell_type": "code",
   "execution_count": 5,
   "source": [
    "def run_and_test(dic, type = \"dual\"):\n",
    "    if not type == \"dual\":\n",
    "        diag_func, rntk_dual = create_func_stripped(dic, True)\n",
    "    else:\n",
    "        diag_func, rntk_dual = create_func_dual(dic, True)\n",
    "    fake_data_ti = np.zeros((dic[\"n_patrons1=\"],dic[\"n_entradasTi=\"]))\n",
    "    fake_data_tiprime = np.zeros((dic[\"n_patrons1=\"],dic[\"n_entradasTiP=\"]))\n",
    "    start = time.time()\n",
    "    result = diag_func(fake_data_ti, fake_data_tiprime)\n",
    "    # # gp_kernel = result[0]\n",
    "    # # rntk_kernel = result[1]\n",
    "    print(\"time to compute \", time.time() - start)\n",
    "    return result, rntk_dual"
   ],
   "outputs": [],
   "metadata": {}
  },
  {
   "cell_type": "code",
   "execution_count": 6,
   "source": [
    "dic = {}\n",
    "dic[\"n_patrons1=\"] = 1#00 #// N (what affect symjax time)\n",
    "dic[\"n_entradasTiP=\"] = 100 #99 works, 100 does not\n",
    "dic[\"n_entradasTi=\"] = 100"
   ],
   "outputs": [],
   "metadata": {}
  },
  {
   "cell_type": "markdown",
   "source": [
    "time to create symjax 0.6262681484222412\n",
    "time to compute  0.8369741439819336"
   ],
   "metadata": {}
  },
  {
   "cell_type": "code",
   "execution_count": 11,
   "source": [
    "# result, rntk_dual = run_and_test(dic, \"dual\")\n",
    "result, rntk_dual = run_and_test(dic, \"dual\")\n",
    "result"
   ],
   "outputs": [
    {
     "output_type": "stream",
     "name": "stdout",
     "text": [
      "time to create symjax 15.317511081695557\n"
     ]
    }
   ],
   "metadata": {}
  },
  {
   "cell_type": "markdown",
   "source": [
    "lets execute the symjax"
   ],
   "metadata": {}
  },
  {
   "cell_type": "code",
   "execution_count": null,
   "source": [],
   "outputs": [],
   "metadata": {}
  },
  {
   "cell_type": "code",
   "execution_count": null,
   "source": [],
   "outputs": [],
   "metadata": {}
  },
  {
   "cell_type": "code",
   "execution_count": 8,
   "source": [
    "# fake_data_ti = np.zeros((dic[\"n_patrons1=\"],dic[\"n_entradasTi=\"]))\n",
    "# fake_data_tiprime = np.zeros((dic[\"n_patrons1=\"],dic[\"n_entradasTiP=\"]))"
   ],
   "outputs": [],
   "metadata": {}
  },
  {
   "cell_type": "code",
   "execution_count": 9,
   "source": [
    "# start = time.time()\n",
    "# result = diag_func(fake_data_ti, fake_data_tiprime)\n",
    "# # # gp_kernel = result[0]\n",
    "# # # rntk_kernel = result[1]\n",
    "# print(time.time() - start)\n",
    "# result"
   ],
   "outputs": [],
   "metadata": {}
  },
  {
   "cell_type": "code",
   "execution_count": 10,
   "source": [
    "# %%timeit\n",
    "# diag_func(fake_data)"
   ],
   "outputs": [],
   "metadata": {}
  },
  {
   "cell_type": "code",
   "execution_count": null,
   "source": [],
   "outputs": [],
   "metadata": {}
  }
 ],
 "metadata": {
  "interpreter": {
   "hash": "ab5fcc423aa22898740621871a4b363dee569974eb0766088898ff8d0b187832"
  },
  "kernelspec": {
   "name": "python3",
   "display_name": "Python 3.8.3 64-bit ('rntk-env': venv)"
  },
  "language_info": {
   "codemirror_mode": {
    "name": "ipython",
    "version": 3
   },
   "file_extension": ".py",
   "mimetype": "text/x-python",
   "name": "python",
   "nbconvert_exporter": "python",
   "pygments_lexer": "ipython3",
   "version": "3.8.3"
  }
 },
 "nbformat": 4,
 "nbformat_minor": 2
}