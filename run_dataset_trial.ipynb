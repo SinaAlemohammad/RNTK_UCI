{
 "cells": [
  {
   "cell_type": "code",
   "execution_count": 1,
   "source": [
    "%load_ext line_profiler\n",
    "%load_ext autoreload\n",
    "%autoreload 2"
   ],
   "outputs": [],
   "metadata": {}
  },
  {
   "cell_type": "code",
   "execution_count": 2,
   "source": [
    "import numpy as np\n",
    "import jax.numpy as jnp\n",
    "import jax\n",
    "import symjax\n",
    "import symjax.tensor as T\n",
    "import copy\n",
    "import time\n",
    "import json\n",
    "# RNTK_onediag_stripped\n",
    "# RNTK_onediag_dual\n",
    "from RNTK_onediag_dual import RNTK as RNTKOD_dual\n",
    "from RNTK_onediag_dual import create_func as create_func_dual\n",
    "from RNTK_onediag_stripped import RNTK as RNTKOD_stripped\n",
    "from RNTK_onediag_stripped import create_func as create_func_stripped"
   ],
   "outputs": [],
   "metadata": {}
  },
  {
   "cell_type": "code",
   "execution_count": 3,
   "source": [
    "# dataset = \"trains\"\n",
    "# dataset = \"bank\""
   ],
   "outputs": [],
   "metadata": {}
  },
  {
   "cell_type": "code",
   "execution_count": 4,
   "source": [
    "# dic = {k:v for k,v in map(lambda x : x.split(), open(\"data\" + \"/\" + dataset + \"/\" + dataset + \".txt\", \"r\").readlines())}"
   ],
   "outputs": [],
   "metadata": {}
  },
  {
   "cell_type": "code",
   "execution_count": 5,
   "source": [
    "def run_and_test(dic, type = \"dual\"):\n",
    "    if not type == \"dual\":\n",
    "        diag_func, rntk_dual = create_func_stripped(dic, True)\n",
    "    else:\n",
    "        diag_func, rntk_dual = create_func_dual(dic, True)\n",
    "    fake_data_ti = np.zeros((dic[\"n_patrons1=\"],dic[\"n_entradasTi=\"]))\n",
    "    fake_data_tiprime = np.zeros((dic[\"n_patrons1=\"],dic[\"n_entradasTiP=\"]))\n",
    "    start = time.time()\n",
    "    result = diag_func(fake_data_ti, fake_data_tiprime)\n",
    "    # # gp_kernel = result[0]\n",
    "    # # rntk_kernel = result[1]\n",
    "    print(\"time to compute \", time.time() - start)\n",
    "    return result, rntk_dual"
   ],
   "outputs": [],
   "metadata": {}
  },
  {
   "cell_type": "code",
   "execution_count": 6,
   "source": [
    "dic = {}\n",
    "dic[\"n_patrons1=\"] = 1#00 #// N (what affect symjax time)\n",
    "dic[\"n_entradasTiP=\"] = 2 #99 works, 100 does not\n",
    "dic[\"n_entradasTi=\"] = 2"
   ],
   "outputs": [],
   "metadata": {}
  },
  {
   "cell_type": "code",
   "execution_count": 7,
   "source": [
    "result, rntk_dual = run_and_test(dic, \"dual\")\n",
    "# result, rntk_dual = run_and_test(dic, \"stripped\")\n",
    "result"
   ],
   "outputs": [
    {
     "output_type": "stream",
     "name": "stderr",
     "text": [
      "WARNING:absl:No GPU/TPU found, falling back to CPU. (Set TF_CPP_MIN_LOG_LEVEL=0 and rerun for more info.)\n"
     ]
    },
    {
     "output_type": "stream",
     "name": "stdout",
     "text": [
      "time to create symjax 1.260556936264038\n",
      "time to compute  1.812464952468872\n"
     ]
    },
    {
     "output_type": "execute_result",
     "data": {
      "text/plain": [
       "array([[[ 5.7142606]],\n",
       "\n",
       "       [[10.214497 ]]], dtype=float32)"
      ]
     },
     "metadata": {},
     "execution_count": 7
    }
   ],
   "metadata": {}
  },
  {
   "cell_type": "markdown",
   "source": [
    "lets execute the symjax"
   ],
   "metadata": {}
  },
  {
   "cell_type": "code",
   "execution_count": null,
   "source": [],
   "outputs": [],
   "metadata": {}
  },
  {
   "cell_type": "code",
   "execution_count": null,
   "source": [],
   "outputs": [],
   "metadata": {}
  },
  {
   "cell_type": "code",
   "execution_count": null,
   "source": [],
   "outputs": [],
   "metadata": {}
  },
  {
   "cell_type": "code",
   "execution_count": 8,
   "source": [
    "idxs = jnp.arange(0, sum(rntk_dual.dim_lengths) - rntk_dual.dim_num)\n",
    "idxs"
   ],
   "outputs": [
    {
     "output_type": "execute_result",
     "data": {
      "text/plain": [
       "DeviceArray([0., 1., 2., 3.], dtype=float32)"
      ]
     },
     "metadata": {},
     "execution_count": 8
    }
   ],
   "metadata": {}
  },
  {
   "cell_type": "code",
   "execution_count": 9,
   "source": [
    "ends = rntk_dual.ends_of_calced_diags\n",
    "ends"
   ],
   "outputs": [
    {
     "output_type": "execute_result",
     "data": {
      "text/plain": [
       "array([0., 2., 3.])"
      ]
     },
     "metadata": {},
     "execution_count": 9
    }
   ],
   "metadata": {}
  },
  {
   "cell_type": "code",
   "execution_count": 10,
   "source": [
    "np.equal(1, np.zeros(1))"
   ],
   "outputs": [
    {
     "output_type": "execute_result",
     "data": {
      "text/plain": [
       "array([False])"
      ]
     },
     "metadata": {},
     "execution_count": 10
    }
   ],
   "metadata": {}
  },
  {
   "cell_type": "code",
   "execution_count": 11,
   "source": [
    "# fake_data_ti = np.zeros((dic[\"n_patrons1=\"],dic[\"n_entradasTi=\"]))\n",
    "# fake_data_tiprime = np.zeros((dic[\"n_patrons1=\"],dic[\"n_entradasTiP=\"]))"
   ],
   "outputs": [],
   "metadata": {}
  },
  {
   "cell_type": "code",
   "execution_count": 12,
   "source": [
    "# start = time.time()\n",
    "# result = diag_func(fake_data_ti, fake_data_tiprime)\n",
    "# # # gp_kernel = result[0]\n",
    "# # # rntk_kernel = result[1]\n",
    "# print(time.time() - start)\n",
    "# result"
   ],
   "outputs": [],
   "metadata": {}
  },
  {
   "cell_type": "code",
   "execution_count": 13,
   "source": [
    "# %%timeit\n",
    "# diag_func(fake_data)"
   ],
   "outputs": [],
   "metadata": {}
  },
  {
   "cell_type": "code",
   "execution_count": null,
   "source": [],
   "outputs": [],
   "metadata": {}
  }
 ],
 "metadata": {
  "interpreter": {
   "hash": "ab5fcc423aa22898740621871a4b363dee569974eb0766088898ff8d0b187832"
  },
  "kernelspec": {
   "name": "python3",
   "display_name": "Python 3.8.3 64-bit ('rntk-env': venv)"
  },
  "language_info": {
   "codemirror_mode": {
    "name": "ipython",
    "version": 3
   },
   "file_extension": ".py",
   "mimetype": "text/x-python",
   "name": "python",
   "nbconvert_exporter": "python",
   "pygments_lexer": "ipython3",
   "version": "3.8.3"
  }
 },
 "nbformat": 4,
 "nbformat_minor": 2
}