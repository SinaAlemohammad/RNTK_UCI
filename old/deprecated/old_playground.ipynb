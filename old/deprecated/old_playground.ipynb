{
 "cells": [
  {
   "cell_type": "code",
   "execution_count": 1,
   "metadata": {},
   "outputs": [],
   "source": [
    "import numpy as np\n",
    "import RNTK_NEW\n",
    "import jax\n",
    "import symjax\n",
    "import symjax.tensor as T\n",
    "import math"
   ]
  },
  {
   "cell_type": "code",
   "execution_count": 11,
   "metadata": {},
   "outputs": [],
   "source": [
    "L = 2\n",
    "Ti = 2\n",
    "TiPrime = 2\n",
    "qmatrix = np.zeros([L,Ti],dtype = object)\n",
    "DATA = T.Placeholder((Ti, 8), 'float32')\n",
    "DATAPRIME = T.Placeholder((TiPrime, 8), 'float32')\n",
    "X = DATA[:,0]\n",
    "tx = X*X[:, None]\n",
    "n = tx.shape[0]\n",
    "su = 1\n",
    "sb = 1\n",
    "sh = 1\n",
    "sq = 1\n",
    "sw = 1"
   ]
  },
  {
   "cell_type": "code",
   "execution_count": 12,
   "metadata": {},
   "outputs": [],
   "source": [
    "def normv(x):\n",
    "    return T.sqrt(T.sum(T.power(x, 2)))\n",
    "def capQ(lq):\n",
    "    return T.full((2,2), lq)"
   ]
  },
  {
   "cell_type": "code",
   "execution_count": 13,
   "metadata": {
    "tags": []
   },
   "outputs": [],
   "source": [
    "def VTq(M):\n",
    "    A = T.diag(M)  # GP_old is in R^{n*n} having the output gp kernel\n",
    "    # of all pairs of data in the data set\n",
    "    B = A * A[:, None]\n",
    "    C = T.sqrt(B)  # in R^{n*n}\n",
    "    D = M / C  # this is lamblda in ReLU analyrucal formula\n",
    "    E = T.clip(D, -1, 1)  # clipping E between -1 and 1 for numerical stability.\n",
    "    F = (1 / (2 * np.pi)) * (E * (np.pi - T.arccos(E)) + T.sqrt(1 - E ** 2)) * C\n",
    "    G = (np.pi - T.arccos(E)) / (2 * np.pi)\n",
    "    return F,G"
   ]
  },
  {
   "cell_type": "code",
   "execution_count": 14,
   "metadata": {
    "tags": []
   },
   "outputs": [
    {
     "name": "stdout",
     "output_type": "stream",
     "text": [
      "0 0\n",
      "Op(name=add_23, fn=add, shape=(), dtype=float32, scope=/default)\n",
      "1 0\n",
      "Op(name=add_25, fn=add, shape=(2, 2), dtype=float32, scope=/default)\n",
      "0 1\n",
      "Op(name=add_28, fn=add, shape=(2, 2), dtype=float32, scope=/default)\n",
      "1 1\n",
      "0\n"
     ]
    }
   ],
   "source": [
    "for t in range(0, Ti):\n",
    "    for l in range(0, L):\n",
    "        print(l, t)\n",
    "        if ((t == l) & (l == 0)):\n",
    "            #assuming ||x|| means the norm of that vector\n",
    "            qmatrix[l, t] = su**2 * normv(X[0])**2 + sb**2 + sh ** 2\n",
    "\n",
    "        if ((t == 0) & (l > t)):\n",
    "\n",
    "            S,D = VTq(capQ(qmatrix[l-1,t]))\n",
    "            qmatrix[l, t] = su**2 * S + sb**2\n",
    "\n",
    "        if ((t > l) & (l == 0)):\n",
    "            S,D = VTq(capQ(qmatrix[l,t-1]))\n",
    "            qmatrix[l, t] = sw**2 * S + su**2 * normv(X[t])**2 + sb**2\n",
    "\n",
    "        if ((t > l) & (l > 0)):\n",
    "            S_left, D_left = VTq(capQ(qmatrix[l,t-1]))\n",
    "            S_right, D_right = VTq(capQ(qmatrix[l-1,t]))\n",
    "            qmatrix[l, t] = sw**2 * S_left + su**2 * D_right + sb**2\n",
    "\n",
    "        print(qmatrix[l, t])\n"
   ]
  },
  {
   "cell_type": "markdown",
   "metadata": {},
   "source": []
  },
  {
   "cell_type": "code",
   "execution_count": 15,
   "metadata": {},
   "outputs": [],
   "source": [
    "#MAKE ALGORITHM 2"
   ]
  },
  {
   "cell_type": "code",
   "execution_count": 16,
   "metadata": {},
   "outputs": [],
   "source": [
    "def Kfunc(l, t, tp): # currently absolutely broken\n",
    "    elem1 = qmatrix[l,t]\n",
    "    elem2 = qmatrix[l, tp]\n",
    "    # print(elem1, elem2)\n",
    "    retmatrix = T.full((4), elem1)\n",
    "    # print(retmatrix)\n",
    "    # retmatrix = T.index_update(retmatrix, 3, elem2)\n",
    "    return T.reshape(retmatrix, (2,2))\n"
   ]
  },
  {
   "cell_type": "code",
   "execution_count": null,
   "metadata": {},
   "outputs": [],
   "source": [
    "# switch_flag = 1\n",
    "# dim_1_i = dim_1 = 2\n",
    "# dim_2 = 2\n",
    "# dim_2_i = 0\n",
    "# dim_num = dim_1 + dim_2 + 1\n",
    "\n",
    "# tiprimes = []\n",
    "# tis = []\n",
    "\n",
    "# print(dim_1_i, dim_2_i, switch_flag)\n",
    "# for d in range(0,dim_num):\n",
    "#     tiprime = dim_1_i\n",
    "#     ti = dim_2_i\n",
    "\n",
    "#     # diag_func(tiprime, ti, dim_1, dim_2, rntk)\n",
    "#     tiprimes.append(tiprime)\n",
    "#     tis.append(ti)\n",
    "\n",
    "#     if dim_1_i == 0:\n",
    "#         switch_flag -= 1\n",
    "#     else:\n",
    "#         dim_1_i = dim_1_i - 1\n",
    "#     if switch_flag <= 0:\n",
    "#         dim_2_i = dim_2_i + 1"
   ]
  },
  {
   "cell_type": "code",
   "execution_count": 19,
   "metadata": {},
   "outputs": [
    {
     "name": "stdout",
     "output_type": "stream",
     "text": [
      "1 0 1\n",
      "inner iteration -  1 0\n"
     ]
    },
    {
     "ename": "IndexError",
     "evalue": "index 2 is out of bounds for axis 0 with size 2",
     "output_type": "error",
     "traceback": [
      "\u001b[0;31m---------------------------------------------------------------------------\u001b[0m",
      "\u001b[0;31mIndexError\u001b[0m                                Traceback (most recent call last)",
      "\u001b[0;32m<ipython-input-19-24154dc6f5c8>\u001b[0m in \u001b[0;36m<module>\u001b[0;34m\u001b[0m\n\u001b[1;32m     42\u001b[0m         \u001b[0;31m#         phimatrix[l,ti,tiprime] = lambdamatrix[l,ti,tiprime] + su**2 * phimatrix[l-1,ti,tiprime] * D # this is breaking - says (4,4) and (2,2) cannot be broadcast together\u001b[0m\u001b[0;34m\u001b[0m\u001b[0;34m\u001b[0m\u001b[0;34m\u001b[0m\u001b[0m\n\u001b[1;32m     43\u001b[0m \u001b[0;34m\u001b[0m\u001b[0m\n\u001b[0;32m---> 44\u001b[0;31m         \u001b[0mS\u001b[0m\u001b[0;34m,\u001b[0m \u001b[0mD\u001b[0m \u001b[0;34m=\u001b[0m \u001b[0mVTq\u001b[0m\u001b[0;34m(\u001b[0m\u001b[0mKfunc\u001b[0m\u001b[0;34m(\u001b[0m\u001b[0mL\u001b[0m\u001b[0;34m,\u001b[0m \u001b[0mti\u001b[0m\u001b[0;34m,\u001b[0m \u001b[0mtiprime\u001b[0m\u001b[0;34m)\u001b[0m\u001b[0;34m)\u001b[0m\u001b[0;34m\u001b[0m\u001b[0;34m\u001b[0m\u001b[0m\n\u001b[0m\u001b[1;32m     45\u001b[0m         \u001b[0mkmatrix\u001b[0m \u001b[0;34m+=\u001b[0m \u001b[0msv\u001b[0m\u001b[0;34m**\u001b[0m\u001b[0;36m2\u001b[0m \u001b[0;34m*\u001b[0m \u001b[0mS\u001b[0m\u001b[0;34m\u001b[0m\u001b[0;34m\u001b[0m\u001b[0m\n\u001b[1;32m     46\u001b[0m         \u001b[0mthetamatrix\u001b[0m \u001b[0;34m+=\u001b[0m \u001b[0msv\u001b[0m\u001b[0;34m**\u001b[0m\u001b[0;36m2\u001b[0m \u001b[0;34m*\u001b[0m \u001b[0mS\u001b[0m \u001b[0;34m+\u001b[0m \u001b[0msv\u001b[0m\u001b[0;34m**\u001b[0m\u001b[0;36m2\u001b[0m \u001b[0;34m*\u001b[0m \u001b[0mphimatrix\u001b[0m\u001b[0;34m[\u001b[0m\u001b[0mL\u001b[0m\u001b[0;34m,\u001b[0m\u001b[0mti\u001b[0m\u001b[0;34m,\u001b[0m\u001b[0mtiprime\u001b[0m\u001b[0;34m]\u001b[0m \u001b[0;34m*\u001b[0m \u001b[0mD\u001b[0m\u001b[0;34m\u001b[0m\u001b[0;34m\u001b[0m\u001b[0m\n",
      "\u001b[0;32m<ipython-input-16-5a33bb15498c>\u001b[0m in \u001b[0;36mKfunc\u001b[0;34m(l, t, tp)\u001b[0m\n\u001b[1;32m      1\u001b[0m \u001b[0;32mdef\u001b[0m \u001b[0mKfunc\u001b[0m\u001b[0;34m(\u001b[0m\u001b[0ml\u001b[0m\u001b[0;34m,\u001b[0m \u001b[0mt\u001b[0m\u001b[0;34m,\u001b[0m \u001b[0mtp\u001b[0m\u001b[0;34m)\u001b[0m\u001b[0;34m:\u001b[0m \u001b[0;31m# currently absolutely broken\u001b[0m\u001b[0;34m\u001b[0m\u001b[0;34m\u001b[0m\u001b[0m\n\u001b[0;32m----> 2\u001b[0;31m     \u001b[0melem1\u001b[0m \u001b[0;34m=\u001b[0m \u001b[0mqmatrix\u001b[0m\u001b[0;34m[\u001b[0m\u001b[0ml\u001b[0m\u001b[0;34m,\u001b[0m\u001b[0mt\u001b[0m\u001b[0;34m]\u001b[0m\u001b[0;34m\u001b[0m\u001b[0;34m\u001b[0m\u001b[0m\n\u001b[0m\u001b[1;32m      3\u001b[0m     \u001b[0melem2\u001b[0m \u001b[0;34m=\u001b[0m \u001b[0mqmatrix\u001b[0m\u001b[0;34m[\u001b[0m\u001b[0ml\u001b[0m\u001b[0;34m,\u001b[0m \u001b[0mtp\u001b[0m\u001b[0;34m]\u001b[0m\u001b[0;34m\u001b[0m\u001b[0;34m\u001b[0m\u001b[0m\n\u001b[1;32m      4\u001b[0m     \u001b[0;31m# print(elem1, elem2)\u001b[0m\u001b[0;34m\u001b[0m\u001b[0;34m\u001b[0m\u001b[0;34m\u001b[0m\u001b[0m\n\u001b[1;32m      5\u001b[0m     \u001b[0mretmatrix\u001b[0m \u001b[0;34m=\u001b[0m \u001b[0mT\u001b[0m\u001b[0;34m.\u001b[0m\u001b[0mfull\u001b[0m\u001b[0;34m(\u001b[0m\u001b[0;34m(\u001b[0m\u001b[0;36m4\u001b[0m\u001b[0;34m)\u001b[0m\u001b[0;34m,\u001b[0m \u001b[0melem1\u001b[0m\u001b[0;34m)\u001b[0m\u001b[0;34m\u001b[0m\u001b[0;34m\u001b[0m\u001b[0m\n",
      "\u001b[0;31mIndexError\u001b[0m: index 2 is out of bounds for axis 0 with size 2"
     ]
    }
   ],
   "source": [
    "switch_flag = 1\n",
    "dim_1_i = dim_1 = 1\n",
    "dim_2 = 1\n",
    "dim_2_i = 0\n",
    "dim_num = dim_1 + dim_2 + 1\n",
    "\n",
    "thetavalue = 0\n",
    "kmatrix = 0\n",
    "\n",
    "lambdamatrix = np.zeros([L,Ti, TiPrime],dtype = object)\n",
    "phimatrix = np.zeros([L,Ti, TiPrime],dtype = object)\n",
    "\n",
    "print(dim_1_i, dim_2_i, switch_flag)\n",
    "for d in range(0,dim_num):\n",
    "    tiprime = dim_1_i\n",
    "    ti = dim_2_i\n",
    "\n",
    "    # print(\"dim_1_i\", dim_1_i, \"dim_2_i\", dim_2_i, switch_flag)\n",
    "    while ((tiprime <= dim_1) & (ti <= dim_2)):\n",
    "        print(\"inner iteration - \", tiprime, ti) #// DIM 1 IS T PRIME, DIM 2 IS T\n",
    "        xi = DATA[:, ti] # 1 is t\n",
    "        xpi = DATAPRIME[:, tiprime]\n",
    "        if ((ti > 0) & (tiprime > 0)):\n",
    "            S, D = VTq(Kfunc(0, ti-1, tiprime-1))\n",
    "            lambdamatrix[0, ti, tiprime] = sw ** 2 * S + su * (xi*xpi[:, None]) + sb ** 2\n",
    "            phimatrix[0, ti, tiprime] = lambdamatrix[0, ti, tiprime] + sw ** 2 * phimatrix[0, ti - 1, tiprime - 1] * D\n",
    "        else:\n",
    "            phimatrix[0,ti,tiprime] = lambdamatrix[0,ti,tiprime] = su ** 2 * (xi*xpi[:, None]) + sb\n",
    "\n",
    "        # for l in range(1, L):\n",
    "        #     if ((ti > 0) & (tiprime > 0)):\n",
    "        #         Sold, Dold = VTq(Kfunc(l-1, ti, tiprime))\n",
    "        #         Sprev, Dprev = VTq(Kfunc(l, ti-1, tiprime-1))\n",
    "        #         lambdamatrix[l,ti,tiprime] = sw**2 * Sprev + sb**2 + su**2 * Sold  + sb**2\n",
    "        #         phimatrix[l,ti,tiprime] = lambdamatrix[l,ti,tiprime] + sw**2*phimatrix[l,ti-1,tiprime-1]*Dprev + su**2*phimatrix[l-1,ti,tiprime]*Dold\n",
    "        #     else:\n",
    "        #         # print(l-1, ti, tiprime)\n",
    "        #         S, D = VTq(Kfunc(l-1, ti, tiprime))\n",
    "        #         lambdamatrix[l,ti,tiprime] = su**2 * S + sb**2\n",
    "        #         print(\"K(l-1, 1,1) -\", D) #(2,2) #same size as S #shuld each q be 2x2?\n",
    "        #         print(\"phimatrix(l-1, 1,1) -\", phimatrix[l-1,ti,tiprime]) #(4,4)\n",
    "        #         phimatrix[l,ti,tiprime] = lambdamatrix[l,ti,tiprime] + su**2 * phimatrix[l-1,ti,tiprime] * D # this is breaking - says (4,4) and (2,2) cannot be broadcast together\n",
    "\n",
    "        S, D = VTq(Kfunc(L, ti, tiprime))\n",
    "        kmatrix += sv**2 * S\n",
    "        thetamatrix += sv**2 * S + sv**2 * phimatrix[L,ti,tiprime] * D\n",
    "\n",
    "        tiprime+=1\n",
    "        ti+=1\n",
    "\n",
    "    if dim_1_i == 0:\n",
    "        switch_flag -= 1\n",
    "    else:\n",
    "        dim_1_i = dim_1_i - 1\n",
    "    if switch_flag <= 0:\n",
    "        dim_2_i = dim_2_i + 1\n",
    "\n",
    "    "
   ]
  },
  {
   "cell_type": "code",
   "execution_count": null,
   "metadata": {},
   "outputs": [],
   "source": []
  }
 ],
 "metadata": {
  "interpreter": {
   "hash": "75ea476c9aa0a226cd89b4490bc52fe58252f10ababefc8536aec1f153efc68d"
  },
  "kernelspec": {
   "display_name": "Python 3.7.9 64-bit ('RNTKVENV': venv)",
   "name": "python3"
  },
  "language_info": {
   "name": "python",
   "version": ""
  }
 },
 "nbformat": 4,
 "nbformat_minor": 5
}