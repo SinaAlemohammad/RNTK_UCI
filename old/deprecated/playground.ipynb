{
 "metadata": {
  "language_info": {
   "codemirror_mode": {
    "name": "ipython",
    "version": 3
   },
   "file_extension": ".py",
   "mimetype": "text/x-python",
   "name": "python",
   "nbconvert_exporter": "python",
   "pygments_lexer": "ipython3",
   "version": "3.8.3"
  },
  "orig_nbformat": 4,
  "kernelspec": {
   "name": "python3",
   "display_name": "Python 3.8.3  ('RNTKVENV': venv)"
  },
  "interpreter": {
   "hash": "d26fdf873f014723235340e32a6964eb154e0cf3c43acdd9f6a19e9d9e78844e"
  }
 },
 "nbformat": 4,
 "nbformat_minor": 2,
 "cells": [
  {
   "cell_type": "code",
   "execution_count": 1,
   "metadata": {},
   "outputs": [],
   "source": [
    "%load_ext autoreload\n",
    "%autoreload 2"
   ]
  },
  {
   "cell_type": "code",
   "execution_count": 2,
   "metadata": {},
   "outputs": [],
   "source": [
    "import sys\n",
    "sys.path.insert(0,'..')"
   ]
  },
  {
   "cell_type": "code",
   "execution_count": 3,
   "metadata": {},
   "outputs": [],
   "source": [
    "import numpy as np\n",
    "from old import tools, RNTK_avg\n",
    "import jax\n",
    "import symjax\n",
    "import symjax.tensor as T\n",
    "import copy"
   ]
  },
  {
   "cell_type": "code",
   "execution_count": 4,
   "metadata": {},
   "outputs": [],
   "source": [
    "Ti = 2\n",
    "TiPrime = 2"
   ]
  },
  {
   "cell_type": "code",
   "execution_count": 5,
   "metadata": {},
   "outputs": [],
   "source": [
    "dataset = \"trains\""
   ]
  },
  {
   "cell_type": "code",
   "execution_count": 6,
   "metadata": {},
   "outputs": [],
   "source": [
    "dic = {k:v for k,v in map(lambda x : x.split(), open(\"../data\" + \"/\" + dataset + \"/\" + dataset + \".txt\", \"r\").readlines())}"
   ]
  },
  {
   "cell_type": "code",
   "execution_count": 7,
   "metadata": {},
   "outputs": [],
   "source": [
    "N = int(dic[\"n_patrons1=\"])\n",
    "length = int(dic[\"n_entradas=\"])"
   ]
  },
  {
   "cell_type": "code",
   "execution_count": 11,
   "metadata": {},
   "outputs": [],
   "source": [
    "class RNTKTEST():\n",
    "    def __init__(self):\n",
    "        self.sw = 1\n",
    "        self.su = 1\n",
    "        self.sb = 1\n",
    "        self.sh = 1\n",
    "        self.L = 1\n",
    "        self.Lf = 0\n",
    "        self.sv = 1\n",
    "        self.N = int(dic[\"n_patrons1=\"])\n",
    "        self.length = int(dic[\"n_entradas=\"])\n",
    "        \n",
    "    def VT(self, M):\n",
    "        A = T.diag(M)  # GP_old is in R^{n*n} having the output gp kernel\n",
    "        # of all pairs of data in the data set\n",
    "        B = A * A[:, None]\n",
    "        C = T.sqrt(B)  # in R^{n*n}\n",
    "        D = M / C  # this is lamblda in ReLU analyrucal formula\n",
    "        E = T.clip(D, -1, 1)  # clipping E between -1 and 1 for numerical stability.\n",
    "        F = (1 / (2 * np.pi)) * (E * (np.pi - T.arccos(E)) + T.sqrt(1 - E ** 2)) * C\n",
    "        G = (np.pi - T.arccos(E)) / (2 * np.pi)\n",
    "        return F,G"
   ]
  },
  {
   "cell_type": "code",
   "execution_count": 8,
   "metadata": {},
   "outputs": [],
   "source": [
    "param = {'sigmaw':1, 'sigmau':1, 'sigmab':1, 'sigmah':1, 'L':1, 'Lf':1, 'sigmav':1}"
   ]
  },
  {
   "cell_type": "code",
   "execution_count": 19,
   "metadata": {},
   "outputs": [
    {
     "output_type": "stream",
     "name": "stdout",
     "text": [
      "N, 10, length, 29\n",
      "gp_new 1 Op(name=expand_dims_35, fn=expand_dims, shape=(1, 10, 10), dtype=float32, scope=/default)\n",
      "rntk_new 1 Op(name=expand_dims_35, fn=expand_dims, shape=(1, 10, 10), dtype=float32, scope=/default)\n",
      "gp_new 2 Op(name=concatenate_20, fn=concatenate, shape=(2, 10, 10), dtype=float32, scope=/default)\n",
      "rntk_new 2 Op(name=concatenate_21, fn=concatenate, shape=(2, 10, 10), dtype=float32, scope=/default)\n",
      "gp_new 3 Op(name=expand_dims_38, fn=expand_dims, shape=(1, 10, 10), dtype=float32, scope=/default)\n",
      "rntk_new 3 Op(name=expand_dims_39, fn=expand_dims, shape=(1, 10, 10), dtype=float32, scope=/default)\n",
      "gp_new 4 Op(name=concatenate_22, fn=concatenate, shape=(2, 10, 10), dtype=float32, scope=/default)\n",
      "rntk_new 4 Op(name=concatenate_23, fn=concatenate, shape=(2, 10, 10), dtype=float32, scope=/default)\n"
     ]
    }
   ],
   "source": [
    "rntk = RNTK_avg.RNTK(N,length,param).RNTK_function()"
   ]
  },
  {
   "cell_type": "code",
   "execution_count": 15,
   "metadata": {},
   "outputs": [
    {
     "output_type": "execute_result",
     "data": {
      "text/plain": [
       "Op(name=add_24, fn=add, shape=(10, 10), dtype=float32, scope=/default)"
      ]
     },
     "metadata": {},
     "execution_count": 15
    }
   ],
   "source": [
    "rntk[0]"
   ]
  },
  {
   "cell_type": "code",
   "execution_count": null,
   "metadata": {},
   "outputs": [],
   "source": []
  },
  {
   "cell_type": "code",
   "execution_count": null,
   "metadata": {},
   "outputs": [],
   "source": []
  },
  {
   "cell_type": "code",
   "execution_count": null,
   "metadata": {},
   "outputs": [],
   "source": []
  },
  {
   "cell_type": "code",
   "execution_count": null,
   "metadata": {},
   "outputs": [],
   "source": []
  },
  {
   "cell_type": "code",
   "execution_count": 13,
   "metadata": {},
   "outputs": [
    {
     "output_type": "stream",
     "name": "stderr",
     "text": [
      "WARNING:absl:No GPU/TPU found, falling back to CPU. (Set TF_CPP_MIN_LOG_LEVEL=0 and rerun for more info.)\n"
     ]
    }
   ],
   "source": [
    "DATA = T.Placeholder((N, length), 'float32', name = \"X\")\n",
    "x = DATA[:,0]\n",
    "X = x*x[:, None]\n",
    "n = X.shape[0]"
   ]
  },
  {
   "cell_type": "code",
   "execution_count": 14,
   "metadata": {},
   "outputs": [],
   "source": [
    "RNTK,GP = RNTK_avg.RNTK.RNTK_first(rntk,DATA[:,0])"
   ]
  },
  {
   "cell_type": "code",
   "execution_count": 15,
   "metadata": {},
   "outputs": [
    {
     "output_type": "execute_result",
     "data": {
      "text/plain": [
       "Op(name=concatenate_1, fn=concatenate, shape=(2, 10, 10), dtype=float32, scope=/default)"
      ]
     },
     "metadata": {},
     "execution_count": 15
    }
   ],
   "source": [
    "RNTK"
   ]
  },
  {
   "source": [
    "## LAYER ZERO ATTEMPT\n"
   ],
   "cell_type": "markdown",
   "metadata": {}
  },
  {
   "cell_type": "code",
   "execution_count": 11,
   "metadata": {},
   "outputs": [],
   "source": [
    "switch_flag = 1\n",
    "dim_1_i = dim_1 = 2\n",
    "dim_2 = 2\n",
    "dim_2_i = 0\n",
    "dim_num = dim_1 + dim_2 + 1"
   ]
  },
  {
   "cell_type": "code",
   "execution_count": 12,
   "metadata": {},
   "outputs": [
    {
     "output_type": "stream",
     "name": "stdout",
     "text": [
      "2 0 1\n"
     ]
    }
   ],
   "source": [
    "tiprimes = []\n",
    "tis = []\n",
    "\n",
    "print(dim_1_i, dim_2_i, switch_flag)\n",
    "for d in range(0,dim_num):\n",
    "    tiprime = dim_1_i\n",
    "    ti = dim_2_i\n",
    "\n",
    "    # diag_func(tiprime, ti, dim_1, dim_2, rntk)\n",
    "    tiprimes.append(tiprime)\n",
    "    tis.append(ti)\n",
    "\n",
    "    if dim_1_i == 0:\n",
    "        switch_flag -= 1\n",
    "    else:\n",
    "        dim_1_i = dim_1_i - 1\n",
    "    if switch_flag <= 0:\n",
    "        dim_2_i = dim_2_i + 1"
   ]
  },
  {
   "cell_type": "code",
   "execution_count": 13,
   "metadata": {},
   "outputs": [
    {
     "output_type": "execute_result",
     "data": {
      "text/plain": [
       "(5, 2)"
      ]
     },
     "metadata": {},
     "execution_count": 13
    }
   ],
   "source": [
    "np.array(list(zip(tiprimes, tis))).shape ## input size (iterable)"
   ]
  },
  {
   "cell_type": "code",
   "execution_count": 14,
   "metadata": {},
   "outputs": [
    {
     "output_type": "execute_result",
     "data": {
      "text/plain": [
       "(4,)"
      ]
     },
     "metadata": {},
     "execution_count": 14
    }
   ],
   "source": [
    "np.array([dim_1, dim_2, n, X]).shape ## additional input size (unchanging)"
   ]
  },
  {
   "cell_type": "code",
   "execution_count": 15,
   "metadata": {},
   "outputs": [
    {
     "output_type": "execute_result",
     "data": {
      "text/plain": [
       "array([[-1, -1],\n",
       "       [-1, -1],\n",
       "       [-1, -1],\n",
       "       [-1, -1],\n",
       "       [-1, -1]], dtype=object)"
      ]
     },
     "metadata": {},
     "execution_count": 15
    }
   ],
   "source": [
    "-np.ones([dim_num,min(dim_1,dim_2)], dtype = object) ## the carry"
   ]
  },
  {
   "cell_type": "code",
   "execution_count": 16,
   "metadata": {},
   "outputs": [],
   "source": [
    "w = T.Variable(1.0, dtype=\"float32\")\n",
    "v = T.Placeholder((), \"float32\")\n",
    "out = T.while_loop(\n",
    "    lambda i, u: i[0] + u < 5,\n",
    "    lambda i: (i[0] + 1.0, i[0] ** 2),\n",
    "    (w, 1.0),\n",
    "    non_sequences_cond=[v],\n",
    ")"
   ]
  },
  {
   "cell_type": "code",
   "execution_count": 17,
   "metadata": {},
   "outputs": [],
   "source": [
    "        # print(\"inner iteration - \", tiprime_iter, ti_iter) #// DIM 1 IS T PRIME, DIM 2 IS T\n",
    "        # if T.logical_and(T.greater(ti_iter, 0), T.greater(tiprime_iter, 0)):\n",
    "        # # if ((ti_iter > 0) & (tiprime_iter > 0)):\n",
    "        #     # S, D = rntk.VT(lambdamatrix[0, ti_iter-1, tiprime_iter-1])\n",
    "        #     # lambdamatrix[0, ti_iter, tiprime_iter] = rntk.sw ** 2 * S + rntk.su ** 2 * X + rntk.sb ** 2\n",
    "        #     # phimatrix[0, ti_iter, tiprime_iter] = lambdamatrix[0, ti_iter, tiprime_iter] + rntk.sw ** 2 * phimatrix[0, ti_iter - 1, tiprime_iter - 1] * D\n",
    "        #     T.index_update(carry, it, 2)\n",
    "        # else:\n",
    "        #     # test = rntk.sh ** 2 * rntk.sw ** 2 * T.eye(n, n) + (rntk.su ** 2) * X + rntk.sb ** 2\n",
    "        #     # test = rntk.sh ** 2 * rntk.sw ** 2 * T.eye(n, n) + (rntk.su ** 2) + rntk.sb ** 2\n",
    "        #     # test = rntk.sh ** 2 * rntk.sw ** 2 + (rntk.su ** 2) + rntk.sb ** 2\n",
    "        #     # phimatrix[0,ti,tiprime_iter] = lambdamatrix[0,ti,tiprime_iter] = T.expand_dims(test, axis = 0) # line 2, alg 1\n",
    "        #     # phi_array[0,ti_iter,tiprime_iter] = 1 # line 2, alg 1\n",
    "        #     T.index_update(carry, it, 3)"
   ]
  },
  {
   "cell_type": "code",
   "execution_count": 18,
   "metadata": {},
   "outputs": [],
   "source": [
    "def body_func(inp):\n",
    "    print(\"in body function\")\n",
    "    carry = inp[4]\n",
    "    tiprime_iter = inp[0] + 1\n",
    "    ti_iter = inp[1] + 1\n",
    "    return (tiprime_iter, ti_iter, inp[2], inp[3], carry)"
   ]
  },
  {
   "cell_type": "code",
   "execution_count": 19,
   "metadata": {},
   "outputs": [],
   "source": [
    "def cond_funct(inp):\n",
    "    print(\"in cond function\")\n",
    "    tip_iter = inp[0]\n",
    "    ti_iter = inp[1]\n",
    "    dim1max = inp[2]\n",
    "    dim2max = inp[3]\n",
    "    return T.logical_and(T.less_equal(tip_iter, dim1max), T.less_equal(ti_iter, dim2max))"
   ]
  },
  {
   "cell_type": "code",
   "execution_count": 20,
   "metadata": {
    "tags": []
   },
   "outputs": [
    {
     "output_type": "stream",
     "name": "stdout",
     "text": [
      "after func def\nPlaceholder(name=_5, shape=(2,), dtype=float32, scope=/default)\nPlaceholder(name=_6, shape=(2,), dtype=float32, scope=/default)\nin cond function\nin body function\nend of func def\n"
     ]
    }
   ],
   "source": [
    "# Xph = T.Placeholder((10,10), \"float32\", name=\"X\")\n",
    "signal = T.Placeholder((5,2), \"float32\", name=\"signal\")\n",
    "dim1ph = T.Variable(dim_1, \"float32\", \"alpha\")\n",
    "dim2ph = T.Variable(dim_2, \"float32\", \"alpha\")\n",
    "nph = T.Variable(n, \"float32\", \"alpha\")\n",
    "# carry = T.Placeholder((), \"float32\", \"alpha\")\n",
    "\n",
    "def fn(ct, st, d1ph, d2ph, nph):\n",
    "# def fn(ct, st, d1ph, d2ph, nph, x):\n",
    "    print(ct)\n",
    "    print(st)\n",
    "    ct_new = copy.copy(ct)\n",
    "    output = T.while_loop(\n",
    "        lambda a: cond_funct(a), # condition\n",
    "        lambda a: body_func(a), # body\n",
    "        (st[0], st[1], d1ph, d2ph, ct), # init \n",
    "    )\n",
    "    # print(ct)\n",
    "    \n",
    "    print(\"end of func def\")\n",
    "    return ct_new, output[4]\n",
    "print(\"after func def\")\n",
    "last_ema, all_ema = T.scan(\n",
    "    fn, init = -np.ones(np.min([dim_1,dim_2])), sequences=[signal], non_sequences=[dim1ph, dim2ph, nph]\n",
    ")\n",
    "print(\"after scan\")\n",
    "f = symjax.function(signal, dim1ph, dim2ph, nph, outputs=all_ema)"
   ]
  },
  {
   "cell_type": "code",
   "execution_count": 122,
   "metadata": {},
   "outputs": [
    {
     "output_type": "stream",
     "name": "stdout",
     "text": [
      "Placeholder(name=_184, shape=(2,), dtype=float32, scope=/default)\nPlaceholder(name=_185, shape=(2,), dtype=int32, scope=/default)\n[[2 0]\n [1 0]\n [0 0]\n [0 1]\n [0 2]]\n"
     ]
    },
    {
     "output_type": "execute_result",
     "data": {
      "text/plain": [
       "array([[-1., -1.],\n",
       "       [-1., -1.],\n",
       "       [-1., -1.],\n",
       "       [-1., -1.],\n",
       "       [-1., -1.]], dtype=float32)"
      ]
     },
     "metadata": {},
     "execution_count": 122
    }
   ],
   "source": [
    "x = np.array(list(zip(tiprimes, tis)))\n",
    "f(x, dim_1, dim_2, n)"
   ]
  },
  {
   "cell_type": "code",
   "execution_count": 14,
   "metadata": {},
   "outputs": [],
   "source": [
    "# lambdamatrix = np.zeros([1, dim_1 + 1, dim_2 + 1],dtype = object)\n",
    "# phimatrix = np.zeros([1, dim_1 + 1, dim_2 + 1],dtype = object)"
   ]
  },
  {
   "source": [
    "## MISC LOOKING AT OBJECT FORMATS"
   ],
   "cell_type": "markdown",
   "metadata": {}
  },
  {
   "cell_type": "code",
   "execution_count": 114,
   "metadata": {},
   "outputs": [],
   "source": [
    "S_new,D_new = rntk.VT(gp_new[l-1])"
   ]
  },
  {
   "cell_type": "code",
   "execution_count": 115,
   "metadata": {},
   "outputs": [
    {
     "output_type": "execute_result",
     "data": {
      "text/plain": [
       "Op(name=multiply_137, fn=multiply, shape=(10, 10), dtype=float32, scope=/default)"
      ]
     },
     "metadata": {},
     "execution_count": 115
    }
   ],
   "source": [
    "S_new"
   ]
  },
  {
   "cell_type": "code",
   "execution_count": 116,
   "metadata": {},
   "outputs": [
    {
     "output_type": "execute_result",
     "data": {
      "text/plain": [
       "Op(name=true_divide_19, fn=true_divide, shape=(10, 10), dtype=float32, scope=/default)"
      ]
     },
     "metadata": {},
     "execution_count": 116
    }
   ],
   "source": [
    "D_new"
   ]
  },
  {
   "cell_type": "code",
   "execution_count": 117,
   "metadata": {},
   "outputs": [],
   "source": [
    "extra = rntk.sh ** 2 * rntk.sw ** 2 * T.eye(n, n) + rntk.su**2 * S_new + rntk.sb**2"
   ]
  },
  {
   "cell_type": "code",
   "execution_count": 118,
   "metadata": {},
   "outputs": [],
   "source": [
    "new = T.expand_dims(extra,axis = 0)"
   ]
  },
  {
   "cell_type": "code",
   "execution_count": 119,
   "metadata": {},
   "outputs": [
    {
     "output_type": "execute_result",
     "data": {
      "text/plain": [
       "Op(name=expand_dims_27, fn=expand_dims, shape=(1, 10, 10), dtype=float32, scope=/default)"
      ]
     },
     "metadata": {},
     "execution_count": 119
    }
   ],
   "source": [
    "new"
   ]
  },
  {
   "cell_type": "code",
   "execution_count": 120,
   "metadata": {},
   "outputs": [],
   "source": [
    "gp_new = T.concatenate([gp_new,new]) #line 4, alg 1"
   ]
  },
  {
   "cell_type": "code",
   "execution_count": 121,
   "metadata": {},
   "outputs": [
    {
     "output_type": "execute_result",
     "data": {
      "text/plain": [
       "Op(name=concatenate_13, fn=concatenate, shape=(3, 10, 10), dtype=float32, scope=/default)"
      ]
     },
     "metadata": {},
     "execution_count": 121
    }
   ],
   "source": [
    "gp_new"
   ]
  },
  {
   "source": [
    "## MIDDLE RNTK OBJECT TYPES"
   ],
   "cell_type": "markdown",
   "metadata": {}
  },
  {
   "source": [
    "T.transpose(DATA[:, 1:])"
   ],
   "cell_type": "code",
   "metadata": {},
   "execution_count": 122,
   "outputs": [
    {
     "output_type": "execute_result",
     "data": {
      "text/plain": [
       "Op(name=transpose_10, fn=transpose, shape=(28, 10), dtype=float32, scope=/default)"
      ]
     },
     "metadata": {},
     "execution_count": 122
    }
   ]
  },
  {
   "cell_type": "code",
   "execution_count": 123,
   "metadata": {},
   "outputs": [
    {
     "output_type": "execute_result",
     "data": {
      "text/plain": [
       "Op(name=stack_10, fn=stack, shape=(2, 2, 10, 10), dtype=float32, scope=/default)"
      ]
     },
     "metadata": {},
     "execution_count": 123
    }
   ],
   "source": [
    "T.stack([RNTK,GP])"
   ]
  },
  {
   "cell_type": "code",
   "execution_count": 124,
   "metadata": {},
   "outputs": [
    {
     "output_type": "stream",
     "name": "stdout",
     "text": [
      "a[0] Op(name=_rewriting_take_56, fn=_rewriting_take, shape=(2, 10, 10), dtype=float32, scope=/default)\na[1] Op(name=_rewriting_take_57, fn=_rewriting_take, shape=(2, 10, 10), dtype=float32, scope=/default)\nB Placeholder(name=_19, shape=(10,), dtype=float32, scope=/default)\n"
     ]
    }
   ],
   "source": [
    "r1, r2 = T.scan(lambda a,b:middletest(a,b),sequences=[ T.transpose(DATA[:, 1:]) ], init=T.stack([RNTK,GP]))"
   ]
  },
  {
   "cell_type": "code",
   "execution_count": 125,
   "metadata": {},
   "outputs": [],
   "source": [
    "def middletest(a,b):\n",
    "    # print(\"A\", a)\n",
    "    print(\"a[0]\", a[0])\n",
    "    print(\"a[1]\", a[1])\n",
    "    print(\"B\", b)\n",
    "    return a,b"
   ]
  },
  {
   "cell_type": "code",
   "execution_count": null,
   "metadata": {},
   "outputs": [],
   "source": []
  },
  {
   "cell_type": "code",
   "execution_count": null,
   "metadata": {},
   "outputs": [],
   "source": []
  },
  {
   "cell_type": "code",
   "execution_count": null,
   "metadata": {},
   "outputs": [],
   "source": []
  }
 ]
}